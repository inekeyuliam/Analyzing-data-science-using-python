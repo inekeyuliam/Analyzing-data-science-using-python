{
  "nbformat": 4,
  "nbformat_minor": 0,
  "metadata": {
    "colab": {
      "name": "Logistic_Heart Disease.ipynb",
      "provenance": [],
      "collapsed_sections": [],
      "authorship_tag": "ABX9TyOiHiVmN3xDRFJWA+QKBbEo",
      "include_colab_link": true
    },
    "kernelspec": {
      "name": "python3",
      "display_name": "Python 3"
    }
  },
  "cells": [
    {
      "cell_type": "markdown",
      "metadata": {
        "id": "view-in-github",
        "colab_type": "text"
      },
      "source": [
        "<a href=\"https://colab.research.google.com/github/inekeyuliam/data-science-classification-python/blob/master/Logistic_Heart_Disease.ipynb\" target=\"_parent\"><img src=\"https://colab.research.google.com/assets/colab-badge.svg\" alt=\"Open In Colab\"/></a>"
      ]
    },
    {
      "cell_type": "code",
      "metadata": {
        "id": "GIm8hkAfei1I"
      },
      "source": [
        "import pandas as pd\n",
        "import numpy as np\n",
        "import pylab as pl\n",
        "from sklearn import preprocessing\n",
        "%matplotlib inline\n",
        "import matplotlib.pyplot as plt"
      ],
      "execution_count": 3,
      "outputs": []
    },
    {
      "cell_type": "code",
      "metadata": {
        "id": "vKVr3v-HfMbd",
        "outputId": "ce0147bb-8df7-468e-ce01-f7d9f461b652",
        "colab": {
          "base_uri": "https://localhost:8080/",
          "height": 224
        }
      },
      "source": [
        "df = pd.read_csv('framingham.csv')\n",
        "df.head()"
      ],
      "execution_count": 30,
      "outputs": [
        {
          "output_type": "execute_result",
          "data": {
            "text/html": [
              "<div>\n",
              "<style scoped>\n",
              "    .dataframe tbody tr th:only-of-type {\n",
              "        vertical-align: middle;\n",
              "    }\n",
              "\n",
              "    .dataframe tbody tr th {\n",
              "        vertical-align: top;\n",
              "    }\n",
              "\n",
              "    .dataframe thead th {\n",
              "        text-align: right;\n",
              "    }\n",
              "</style>\n",
              "<table border=\"1\" class=\"dataframe\">\n",
              "  <thead>\n",
              "    <tr style=\"text-align: right;\">\n",
              "      <th></th>\n",
              "      <th>male</th>\n",
              "      <th>age</th>\n",
              "      <th>education</th>\n",
              "      <th>currentSmoker</th>\n",
              "      <th>cigsPerDay</th>\n",
              "      <th>BPMeds</th>\n",
              "      <th>prevalentStroke</th>\n",
              "      <th>prevalentHyp</th>\n",
              "      <th>diabetes</th>\n",
              "      <th>totChol</th>\n",
              "      <th>sysBP</th>\n",
              "      <th>diaBP</th>\n",
              "      <th>BMI</th>\n",
              "      <th>heartRate</th>\n",
              "      <th>glucose</th>\n",
              "      <th>TenYearCHD</th>\n",
              "    </tr>\n",
              "  </thead>\n",
              "  <tbody>\n",
              "    <tr>\n",
              "      <th>0</th>\n",
              "      <td>1</td>\n",
              "      <td>39</td>\n",
              "      <td>4.0</td>\n",
              "      <td>0</td>\n",
              "      <td>0.0</td>\n",
              "      <td>0.0</td>\n",
              "      <td>0</td>\n",
              "      <td>0</td>\n",
              "      <td>0</td>\n",
              "      <td>195.0</td>\n",
              "      <td>106.0</td>\n",
              "      <td>70.0</td>\n",
              "      <td>26.97</td>\n",
              "      <td>80.0</td>\n",
              "      <td>77.0</td>\n",
              "      <td>0</td>\n",
              "    </tr>\n",
              "    <tr>\n",
              "      <th>1</th>\n",
              "      <td>0</td>\n",
              "      <td>46</td>\n",
              "      <td>2.0</td>\n",
              "      <td>0</td>\n",
              "      <td>0.0</td>\n",
              "      <td>0.0</td>\n",
              "      <td>0</td>\n",
              "      <td>0</td>\n",
              "      <td>0</td>\n",
              "      <td>250.0</td>\n",
              "      <td>121.0</td>\n",
              "      <td>81.0</td>\n",
              "      <td>28.73</td>\n",
              "      <td>95.0</td>\n",
              "      <td>76.0</td>\n",
              "      <td>0</td>\n",
              "    </tr>\n",
              "    <tr>\n",
              "      <th>2</th>\n",
              "      <td>1</td>\n",
              "      <td>48</td>\n",
              "      <td>1.0</td>\n",
              "      <td>1</td>\n",
              "      <td>20.0</td>\n",
              "      <td>0.0</td>\n",
              "      <td>0</td>\n",
              "      <td>0</td>\n",
              "      <td>0</td>\n",
              "      <td>245.0</td>\n",
              "      <td>127.5</td>\n",
              "      <td>80.0</td>\n",
              "      <td>25.34</td>\n",
              "      <td>75.0</td>\n",
              "      <td>70.0</td>\n",
              "      <td>0</td>\n",
              "    </tr>\n",
              "    <tr>\n",
              "      <th>3</th>\n",
              "      <td>0</td>\n",
              "      <td>61</td>\n",
              "      <td>3.0</td>\n",
              "      <td>1</td>\n",
              "      <td>30.0</td>\n",
              "      <td>0.0</td>\n",
              "      <td>0</td>\n",
              "      <td>1</td>\n",
              "      <td>0</td>\n",
              "      <td>225.0</td>\n",
              "      <td>150.0</td>\n",
              "      <td>95.0</td>\n",
              "      <td>28.58</td>\n",
              "      <td>65.0</td>\n",
              "      <td>103.0</td>\n",
              "      <td>1</td>\n",
              "    </tr>\n",
              "    <tr>\n",
              "      <th>4</th>\n",
              "      <td>0</td>\n",
              "      <td>46</td>\n",
              "      <td>3.0</td>\n",
              "      <td>1</td>\n",
              "      <td>23.0</td>\n",
              "      <td>0.0</td>\n",
              "      <td>0</td>\n",
              "      <td>0</td>\n",
              "      <td>0</td>\n",
              "      <td>285.0</td>\n",
              "      <td>130.0</td>\n",
              "      <td>84.0</td>\n",
              "      <td>23.10</td>\n",
              "      <td>85.0</td>\n",
              "      <td>85.0</td>\n",
              "      <td>0</td>\n",
              "    </tr>\n",
              "  </tbody>\n",
              "</table>\n",
              "</div>"
            ],
            "text/plain": [
              "   male  age  education  currentSmoker  ...    BMI  heartRate  glucose  TenYearCHD\n",
              "0     1   39        4.0              0  ...  26.97       80.0     77.0           0\n",
              "1     0   46        2.0              0  ...  28.73       95.0     76.0           0\n",
              "2     1   48        1.0              1  ...  25.34       75.0     70.0           0\n",
              "3     0   61        3.0              1  ...  28.58       65.0    103.0           1\n",
              "4     0   46        3.0              1  ...  23.10       85.0     85.0           0\n",
              "\n",
              "[5 rows x 16 columns]"
            ]
          },
          "metadata": {
            "tags": []
          },
          "execution_count": 30
        }
      ]
    },
    {
      "cell_type": "code",
      "metadata": {
        "id": "y-3nVuMZi0g4",
        "outputId": "254487e0-9686-4b38-e73c-7b33526b0eb5",
        "colab": {
          "base_uri": "https://localhost:8080/",
          "height": 224
        }
      },
      "source": [
        "df.dtypes\n",
        "missingvalues = df.isnull()\n",
        "missingvalues.head()"
      ],
      "execution_count": 31,
      "outputs": [
        {
          "output_type": "execute_result",
          "data": {
            "text/html": [
              "<div>\n",
              "<style scoped>\n",
              "    .dataframe tbody tr th:only-of-type {\n",
              "        vertical-align: middle;\n",
              "    }\n",
              "\n",
              "    .dataframe tbody tr th {\n",
              "        vertical-align: top;\n",
              "    }\n",
              "\n",
              "    .dataframe thead th {\n",
              "        text-align: right;\n",
              "    }\n",
              "</style>\n",
              "<table border=\"1\" class=\"dataframe\">\n",
              "  <thead>\n",
              "    <tr style=\"text-align: right;\">\n",
              "      <th></th>\n",
              "      <th>male</th>\n",
              "      <th>age</th>\n",
              "      <th>education</th>\n",
              "      <th>currentSmoker</th>\n",
              "      <th>cigsPerDay</th>\n",
              "      <th>BPMeds</th>\n",
              "      <th>prevalentStroke</th>\n",
              "      <th>prevalentHyp</th>\n",
              "      <th>diabetes</th>\n",
              "      <th>totChol</th>\n",
              "      <th>sysBP</th>\n",
              "      <th>diaBP</th>\n",
              "      <th>BMI</th>\n",
              "      <th>heartRate</th>\n",
              "      <th>glucose</th>\n",
              "      <th>TenYearCHD</th>\n",
              "    </tr>\n",
              "  </thead>\n",
              "  <tbody>\n",
              "    <tr>\n",
              "      <th>0</th>\n",
              "      <td>False</td>\n",
              "      <td>False</td>\n",
              "      <td>False</td>\n",
              "      <td>False</td>\n",
              "      <td>False</td>\n",
              "      <td>False</td>\n",
              "      <td>False</td>\n",
              "      <td>False</td>\n",
              "      <td>False</td>\n",
              "      <td>False</td>\n",
              "      <td>False</td>\n",
              "      <td>False</td>\n",
              "      <td>False</td>\n",
              "      <td>False</td>\n",
              "      <td>False</td>\n",
              "      <td>False</td>\n",
              "    </tr>\n",
              "    <tr>\n",
              "      <th>1</th>\n",
              "      <td>False</td>\n",
              "      <td>False</td>\n",
              "      <td>False</td>\n",
              "      <td>False</td>\n",
              "      <td>False</td>\n",
              "      <td>False</td>\n",
              "      <td>False</td>\n",
              "      <td>False</td>\n",
              "      <td>False</td>\n",
              "      <td>False</td>\n",
              "      <td>False</td>\n",
              "      <td>False</td>\n",
              "      <td>False</td>\n",
              "      <td>False</td>\n",
              "      <td>False</td>\n",
              "      <td>False</td>\n",
              "    </tr>\n",
              "    <tr>\n",
              "      <th>2</th>\n",
              "      <td>False</td>\n",
              "      <td>False</td>\n",
              "      <td>False</td>\n",
              "      <td>False</td>\n",
              "      <td>False</td>\n",
              "      <td>False</td>\n",
              "      <td>False</td>\n",
              "      <td>False</td>\n",
              "      <td>False</td>\n",
              "      <td>False</td>\n",
              "      <td>False</td>\n",
              "      <td>False</td>\n",
              "      <td>False</td>\n",
              "      <td>False</td>\n",
              "      <td>False</td>\n",
              "      <td>False</td>\n",
              "    </tr>\n",
              "    <tr>\n",
              "      <th>3</th>\n",
              "      <td>False</td>\n",
              "      <td>False</td>\n",
              "      <td>False</td>\n",
              "      <td>False</td>\n",
              "      <td>False</td>\n",
              "      <td>False</td>\n",
              "      <td>False</td>\n",
              "      <td>False</td>\n",
              "      <td>False</td>\n",
              "      <td>False</td>\n",
              "      <td>False</td>\n",
              "      <td>False</td>\n",
              "      <td>False</td>\n",
              "      <td>False</td>\n",
              "      <td>False</td>\n",
              "      <td>False</td>\n",
              "    </tr>\n",
              "    <tr>\n",
              "      <th>4</th>\n",
              "      <td>False</td>\n",
              "      <td>False</td>\n",
              "      <td>False</td>\n",
              "      <td>False</td>\n",
              "      <td>False</td>\n",
              "      <td>False</td>\n",
              "      <td>False</td>\n",
              "      <td>False</td>\n",
              "      <td>False</td>\n",
              "      <td>False</td>\n",
              "      <td>False</td>\n",
              "      <td>False</td>\n",
              "      <td>False</td>\n",
              "      <td>False</td>\n",
              "      <td>False</td>\n",
              "      <td>False</td>\n",
              "    </tr>\n",
              "  </tbody>\n",
              "</table>\n",
              "</div>"
            ],
            "text/plain": [
              "    male    age  education  ...  heartRate  glucose  TenYearCHD\n",
              "0  False  False      False  ...      False    False       False\n",
              "1  False  False      False  ...      False    False       False\n",
              "2  False  False      False  ...      False    False       False\n",
              "3  False  False      False  ...      False    False       False\n",
              "4  False  False      False  ...      False    False       False\n",
              "\n",
              "[5 rows x 16 columns]"
            ]
          },
          "metadata": {
            "tags": []
          },
          "execution_count": 31
        }
      ]
    },
    {
      "cell_type": "code",
      "metadata": {
        "id": "Mx-m9qmCjdrO",
        "outputId": "8096824d-424f-4c84-e6d1-0dd0e3b4dd2e",
        "colab": {
          "base_uri": "https://localhost:8080/",
          "height": 1000
        }
      },
      "source": [
        "for column in missingvalues.columns.values.tolist():\n",
        "  print(column)\n",
        "  print(missingvalues[column].value_counts())\n",
        "  print(\"\")"
      ],
      "execution_count": 32,
      "outputs": [
        {
          "output_type": "stream",
          "text": [
            "male\n",
            "False    4238\n",
            "Name: male, dtype: int64\n",
            "\n",
            "age\n",
            "False    4238\n",
            "Name: age, dtype: int64\n",
            "\n",
            "education\n",
            "False    4133\n",
            "True      105\n",
            "Name: education, dtype: int64\n",
            "\n",
            "currentSmoker\n",
            "False    4238\n",
            "Name: currentSmoker, dtype: int64\n",
            "\n",
            "cigsPerDay\n",
            "False    4209\n",
            "True       29\n",
            "Name: cigsPerDay, dtype: int64\n",
            "\n",
            "BPMeds\n",
            "False    4185\n",
            "True       53\n",
            "Name: BPMeds, dtype: int64\n",
            "\n",
            "prevalentStroke\n",
            "False    4238\n",
            "Name: prevalentStroke, dtype: int64\n",
            "\n",
            "prevalentHyp\n",
            "False    4238\n",
            "Name: prevalentHyp, dtype: int64\n",
            "\n",
            "diabetes\n",
            "False    4238\n",
            "Name: diabetes, dtype: int64\n",
            "\n",
            "totChol\n",
            "False    4188\n",
            "True       50\n",
            "Name: totChol, dtype: int64\n",
            "\n",
            "sysBP\n",
            "False    4238\n",
            "Name: sysBP, dtype: int64\n",
            "\n",
            "diaBP\n",
            "False    4238\n",
            "Name: diaBP, dtype: int64\n",
            "\n",
            "BMI\n",
            "False    4219\n",
            "True       19\n",
            "Name: BMI, dtype: int64\n",
            "\n",
            "heartRate\n",
            "False    4237\n",
            "True        1\n",
            "Name: heartRate, dtype: int64\n",
            "\n",
            "glucose\n",
            "False    3850\n",
            "True      388\n",
            "Name: glucose, dtype: int64\n",
            "\n",
            "TenYearCHD\n",
            "False    4238\n",
            "Name: TenYearCHD, dtype: int64\n",
            "\n"
          ],
          "name": "stdout"
        }
      ]
    },
    {
      "cell_type": "code",
      "metadata": {
        "id": "yofWdFjFkGSq"
      },
      "source": [
        "df['education'].value_counts().idxmax()\n",
        "df['education'].replace(np.nan, 1.0,inplace=True)\n",
        "df['cigsPerDay'].value_counts().idxmax()\n",
        "df['cigsPerDay'].replace(np.nan, 0.0, inplace=True)\n",
        "df['BPMeds'].value_counts().idxmax()\n",
        "df['BPMeds'].replace(np.nan, 0.0, inplace=True)\n",
        "avgchol = df['totChol'].mean()\n",
        "df['totChol'].replace(np.nan, avgchol, inplace=True)\n",
        "avgbmi = df['BMI'].mean()\n",
        "df['BMI'].replace(np.nan, avgbmi, inplace=True)\n",
        "avgheart = df['heartRate'].mean()\n",
        "df['heartRate'].replace(np.nan, avgheart, inplace=True)\n",
        "avgglu = df['glucose'].mean()\n",
        "df['glucose'].replace(np.nan, avgglu, inplace=True)"
      ],
      "execution_count": 50,
      "outputs": []
    },
    {
      "cell_type": "code",
      "metadata": {
        "id": "LfPL9JfXFVMb",
        "outputId": "8fc7decd-6fa0-4e36-b36c-04a2d1e785b0",
        "colab": {
          "base_uri": "https://localhost:8080/",
          "height": 565
        }
      },
      "source": [
        "df.corr()"
      ],
      "execution_count": 51,
      "outputs": [
        {
          "output_type": "execute_result",
          "data": {
            "text/html": [
              "<div>\n",
              "<style scoped>\n",
              "    .dataframe tbody tr th:only-of-type {\n",
              "        vertical-align: middle;\n",
              "    }\n",
              "\n",
              "    .dataframe tbody tr th {\n",
              "        vertical-align: top;\n",
              "    }\n",
              "\n",
              "    .dataframe thead th {\n",
              "        text-align: right;\n",
              "    }\n",
              "</style>\n",
              "<table border=\"1\" class=\"dataframe\">\n",
              "  <thead>\n",
              "    <tr style=\"text-align: right;\">\n",
              "      <th></th>\n",
              "      <th>male</th>\n",
              "      <th>age</th>\n",
              "      <th>education</th>\n",
              "      <th>currentSmoker</th>\n",
              "      <th>cigsPerDay</th>\n",
              "      <th>BPMeds</th>\n",
              "      <th>prevalentStroke</th>\n",
              "      <th>prevalentHyp</th>\n",
              "      <th>diabetes</th>\n",
              "      <th>totChol</th>\n",
              "      <th>sysBP</th>\n",
              "      <th>diaBP</th>\n",
              "      <th>BMI</th>\n",
              "      <th>heartRate</th>\n",
              "      <th>glucose</th>\n",
              "      <th>TenYearCHD</th>\n",
              "    </tr>\n",
              "  </thead>\n",
              "  <tbody>\n",
              "    <tr>\n",
              "      <th>male</th>\n",
              "      <td>1.000000</td>\n",
              "      <td>-0.028979</td>\n",
              "      <td>0.013299</td>\n",
              "      <td>0.197596</td>\n",
              "      <td>0.315630</td>\n",
              "      <td>-0.051545</td>\n",
              "      <td>-0.004546</td>\n",
              "      <td>0.005313</td>\n",
              "      <td>0.015708</td>\n",
              "      <td>-0.069974</td>\n",
              "      <td>-0.035989</td>\n",
              "      <td>0.057933</td>\n",
              "      <td>0.081506</td>\n",
              "      <td>-0.116601</td>\n",
              "      <td>0.005818</td>\n",
              "      <td>0.088428</td>\n",
              "    </tr>\n",
              "    <tr>\n",
              "      <th>age</th>\n",
              "      <td>-0.028979</td>\n",
              "      <td>1.000000</td>\n",
              "      <td>-0.164809</td>\n",
              "      <td>-0.213748</td>\n",
              "      <td>-0.191847</td>\n",
              "      <td>0.120955</td>\n",
              "      <td>0.057655</td>\n",
              "      <td>0.307194</td>\n",
              "      <td>0.101258</td>\n",
              "      <td>0.260270</td>\n",
              "      <td>0.394302</td>\n",
              "      <td>0.206104</td>\n",
              "      <td>0.135283</td>\n",
              "      <td>-0.012819</td>\n",
              "      <td>0.116850</td>\n",
              "      <td>0.225256</td>\n",
              "    </tr>\n",
              "    <tr>\n",
              "      <th>education</th>\n",
              "      <td>0.013299</td>\n",
              "      <td>-0.164809</td>\n",
              "      <td>1.000000</td>\n",
              "      <td>0.019403</td>\n",
              "      <td>0.009905</td>\n",
              "      <td>-0.010149</td>\n",
              "      <td>-0.032881</td>\n",
              "      <td>-0.078807</td>\n",
              "      <td>-0.038147</td>\n",
              "      <td>-0.023534</td>\n",
              "      <td>-0.126197</td>\n",
              "      <td>-0.062732</td>\n",
              "      <td>-0.139487</td>\n",
              "      <td>-0.049604</td>\n",
              "      <td>-0.034299</td>\n",
              "      <td>-0.052812</td>\n",
              "    </tr>\n",
              "    <tr>\n",
              "      <th>currentSmoker</th>\n",
              "      <td>0.197596</td>\n",
              "      <td>-0.213748</td>\n",
              "      <td>0.019403</td>\n",
              "      <td>1.000000</td>\n",
              "      <td>0.760239</td>\n",
              "      <td>-0.048358</td>\n",
              "      <td>-0.032988</td>\n",
              "      <td>-0.103260</td>\n",
              "      <td>-0.044295</td>\n",
              "      <td>-0.046285</td>\n",
              "      <td>-0.130230</td>\n",
              "      <td>-0.107746</td>\n",
              "      <td>-0.167276</td>\n",
              "      <td>0.062348</td>\n",
              "      <td>-0.054157</td>\n",
              "      <td>0.019456</td>\n",
              "    </tr>\n",
              "    <tr>\n",
              "      <th>cigsPerDay</th>\n",
              "      <td>0.315630</td>\n",
              "      <td>-0.191847</td>\n",
              "      <td>0.009905</td>\n",
              "      <td>0.760239</td>\n",
              "      <td>1.000000</td>\n",
              "      <td>-0.044675</td>\n",
              "      <td>-0.032244</td>\n",
              "      <td>-0.065046</td>\n",
              "      <td>-0.036150</td>\n",
              "      <td>-0.026816</td>\n",
              "      <td>-0.088375</td>\n",
              "      <td>-0.056687</td>\n",
              "      <td>-0.092332</td>\n",
              "      <td>0.073866</td>\n",
              "      <td>-0.056650</td>\n",
              "      <td>0.058859</td>\n",
              "    </tr>\n",
              "    <tr>\n",
              "      <th>BPMeds</th>\n",
              "      <td>-0.051545</td>\n",
              "      <td>0.120955</td>\n",
              "      <td>-0.010149</td>\n",
              "      <td>-0.048358</td>\n",
              "      <td>-0.044675</td>\n",
              "      <td>1.000000</td>\n",
              "      <td>0.114609</td>\n",
              "      <td>0.258697</td>\n",
              "      <td>0.051394</td>\n",
              "      <td>0.078712</td>\n",
              "      <td>0.251503</td>\n",
              "      <td>0.192356</td>\n",
              "      <td>0.099647</td>\n",
              "      <td>0.015139</td>\n",
              "      <td>0.048856</td>\n",
              "      <td>0.086417</td>\n",
              "    </tr>\n",
              "    <tr>\n",
              "      <th>prevalentStroke</th>\n",
              "      <td>-0.004546</td>\n",
              "      <td>0.057655</td>\n",
              "      <td>-0.032881</td>\n",
              "      <td>-0.032988</td>\n",
              "      <td>-0.032244</td>\n",
              "      <td>0.114609</td>\n",
              "      <td>1.000000</td>\n",
              "      <td>0.074830</td>\n",
              "      <td>0.006949</td>\n",
              "      <td>0.000067</td>\n",
              "      <td>0.057009</td>\n",
              "      <td>0.045190</td>\n",
              "      <td>0.024840</td>\n",
              "      <td>-0.017676</td>\n",
              "      <td>0.018055</td>\n",
              "      <td>0.061810</td>\n",
              "    </tr>\n",
              "    <tr>\n",
              "      <th>prevalentHyp</th>\n",
              "      <td>0.005313</td>\n",
              "      <td>0.307194</td>\n",
              "      <td>-0.078807</td>\n",
              "      <td>-0.103260</td>\n",
              "      <td>-0.065046</td>\n",
              "      <td>0.258697</td>\n",
              "      <td>0.074830</td>\n",
              "      <td>1.000000</td>\n",
              "      <td>0.077808</td>\n",
              "      <td>0.163041</td>\n",
              "      <td>0.696755</td>\n",
              "      <td>0.615751</td>\n",
              "      <td>0.300572</td>\n",
              "      <td>0.147222</td>\n",
              "      <td>0.082924</td>\n",
              "      <td>0.177603</td>\n",
              "    </tr>\n",
              "    <tr>\n",
              "      <th>diabetes</th>\n",
              "      <td>0.015708</td>\n",
              "      <td>0.101258</td>\n",
              "      <td>-0.038147</td>\n",
              "      <td>-0.044295</td>\n",
              "      <td>-0.036150</td>\n",
              "      <td>0.051394</td>\n",
              "      <td>0.006949</td>\n",
              "      <td>0.077808</td>\n",
              "      <td>1.000000</td>\n",
              "      <td>0.040092</td>\n",
              "      <td>0.111283</td>\n",
              "      <td>0.050329</td>\n",
              "      <td>0.086250</td>\n",
              "      <td>0.048993</td>\n",
              "      <td>0.605705</td>\n",
              "      <td>0.097317</td>\n",
              "    </tr>\n",
              "    <tr>\n",
              "      <th>totChol</th>\n",
              "      <td>-0.069974</td>\n",
              "      <td>0.260270</td>\n",
              "      <td>-0.023534</td>\n",
              "      <td>-0.046285</td>\n",
              "      <td>-0.026816</td>\n",
              "      <td>0.078712</td>\n",
              "      <td>0.000067</td>\n",
              "      <td>0.163041</td>\n",
              "      <td>0.040092</td>\n",
              "      <td>1.000000</td>\n",
              "      <td>0.207609</td>\n",
              "      <td>0.163903</td>\n",
              "      <td>0.114789</td>\n",
              "      <td>0.090676</td>\n",
              "      <td>0.044583</td>\n",
              "      <td>0.081624</td>\n",
              "    </tr>\n",
              "    <tr>\n",
              "      <th>sysBP</th>\n",
              "      <td>-0.035989</td>\n",
              "      <td>0.394302</td>\n",
              "      <td>-0.126197</td>\n",
              "      <td>-0.130230</td>\n",
              "      <td>-0.088375</td>\n",
              "      <td>0.251503</td>\n",
              "      <td>0.057009</td>\n",
              "      <td>0.696755</td>\n",
              "      <td>0.111283</td>\n",
              "      <td>0.207609</td>\n",
              "      <td>1.000000</td>\n",
              "      <td>0.784002</td>\n",
              "      <td>0.325247</td>\n",
              "      <td>0.182174</td>\n",
              "      <td>0.134608</td>\n",
              "      <td>0.216429</td>\n",
              "    </tr>\n",
              "    <tr>\n",
              "      <th>diaBP</th>\n",
              "      <td>0.057933</td>\n",
              "      <td>0.206104</td>\n",
              "      <td>-0.062732</td>\n",
              "      <td>-0.107746</td>\n",
              "      <td>-0.056687</td>\n",
              "      <td>0.192356</td>\n",
              "      <td>0.045190</td>\n",
              "      <td>0.615751</td>\n",
              "      <td>0.050329</td>\n",
              "      <td>0.163903</td>\n",
              "      <td>0.784002</td>\n",
              "      <td>1.000000</td>\n",
              "      <td>0.376544</td>\n",
              "      <td>0.181246</td>\n",
              "      <td>0.058647</td>\n",
              "      <td>0.145299</td>\n",
              "    </tr>\n",
              "    <tr>\n",
              "      <th>BMI</th>\n",
              "      <td>0.081506</td>\n",
              "      <td>0.135283</td>\n",
              "      <td>-0.139487</td>\n",
              "      <td>-0.167276</td>\n",
              "      <td>-0.092332</td>\n",
              "      <td>0.099647</td>\n",
              "      <td>0.024840</td>\n",
              "      <td>0.300572</td>\n",
              "      <td>0.086250</td>\n",
              "      <td>0.114789</td>\n",
              "      <td>0.325247</td>\n",
              "      <td>0.376544</td>\n",
              "      <td>1.000000</td>\n",
              "      <td>0.067544</td>\n",
              "      <td>0.082109</td>\n",
              "      <td>0.074680</td>\n",
              "    </tr>\n",
              "    <tr>\n",
              "      <th>heartRate</th>\n",
              "      <td>-0.116601</td>\n",
              "      <td>-0.012819</td>\n",
              "      <td>-0.049604</td>\n",
              "      <td>0.062348</td>\n",
              "      <td>0.073866</td>\n",
              "      <td>0.015139</td>\n",
              "      <td>-0.017676</td>\n",
              "      <td>0.147222</td>\n",
              "      <td>0.048993</td>\n",
              "      <td>0.090676</td>\n",
              "      <td>0.182174</td>\n",
              "      <td>0.181246</td>\n",
              "      <td>0.067544</td>\n",
              "      <td>1.000000</td>\n",
              "      <td>0.089341</td>\n",
              "      <td>0.022898</td>\n",
              "    </tr>\n",
              "    <tr>\n",
              "      <th>glucose</th>\n",
              "      <td>0.005818</td>\n",
              "      <td>0.116850</td>\n",
              "      <td>-0.034299</td>\n",
              "      <td>-0.054157</td>\n",
              "      <td>-0.056650</td>\n",
              "      <td>0.048856</td>\n",
              "      <td>0.018055</td>\n",
              "      <td>0.082924</td>\n",
              "      <td>0.605705</td>\n",
              "      <td>0.044583</td>\n",
              "      <td>0.134608</td>\n",
              "      <td>0.058647</td>\n",
              "      <td>0.082109</td>\n",
              "      <td>0.089341</td>\n",
              "      <td>1.000000</td>\n",
              "      <td>0.120406</td>\n",
              "    </tr>\n",
              "    <tr>\n",
              "      <th>TenYearCHD</th>\n",
              "      <td>0.088428</td>\n",
              "      <td>0.225256</td>\n",
              "      <td>-0.052812</td>\n",
              "      <td>0.019456</td>\n",
              "      <td>0.058859</td>\n",
              "      <td>0.086417</td>\n",
              "      <td>0.061810</td>\n",
              "      <td>0.177603</td>\n",
              "      <td>0.097317</td>\n",
              "      <td>0.081624</td>\n",
              "      <td>0.216429</td>\n",
              "      <td>0.145299</td>\n",
              "      <td>0.074680</td>\n",
              "      <td>0.022898</td>\n",
              "      <td>0.120406</td>\n",
              "      <td>1.000000</td>\n",
              "    </tr>\n",
              "  </tbody>\n",
              "</table>\n",
              "</div>"
            ],
            "text/plain": [
              "                     male       age  education  ...  heartRate   glucose  TenYearCHD\n",
              "male             1.000000 -0.028979   0.013299  ...  -0.116601  0.005818    0.088428\n",
              "age             -0.028979  1.000000  -0.164809  ...  -0.012819  0.116850    0.225256\n",
              "education        0.013299 -0.164809   1.000000  ...  -0.049604 -0.034299   -0.052812\n",
              "currentSmoker    0.197596 -0.213748   0.019403  ...   0.062348 -0.054157    0.019456\n",
              "cigsPerDay       0.315630 -0.191847   0.009905  ...   0.073866 -0.056650    0.058859\n",
              "BPMeds          -0.051545  0.120955  -0.010149  ...   0.015139  0.048856    0.086417\n",
              "prevalentStroke -0.004546  0.057655  -0.032881  ...  -0.017676  0.018055    0.061810\n",
              "prevalentHyp     0.005313  0.307194  -0.078807  ...   0.147222  0.082924    0.177603\n",
              "diabetes         0.015708  0.101258  -0.038147  ...   0.048993  0.605705    0.097317\n",
              "totChol         -0.069974  0.260270  -0.023534  ...   0.090676  0.044583    0.081624\n",
              "sysBP           -0.035989  0.394302  -0.126197  ...   0.182174  0.134608    0.216429\n",
              "diaBP            0.057933  0.206104  -0.062732  ...   0.181246  0.058647    0.145299\n",
              "BMI              0.081506  0.135283  -0.139487  ...   0.067544  0.082109    0.074680\n",
              "heartRate       -0.116601 -0.012819  -0.049604  ...   1.000000  0.089341    0.022898\n",
              "glucose          0.005818  0.116850  -0.034299  ...   0.089341  1.000000    0.120406\n",
              "TenYearCHD       0.088428  0.225256  -0.052812  ...   0.022898  0.120406    1.000000\n",
              "\n",
              "[16 rows x 16 columns]"
            ]
          },
          "metadata": {
            "tags": []
          },
          "execution_count": 51
        }
      ]
    },
    {
      "cell_type": "code",
      "metadata": {
        "id": "WqGRkE5oBh_i",
        "outputId": "6d850d00-474e-490e-a278-c5fda886cfbb",
        "colab": {
          "base_uri": "https://localhost:8080/",
          "height": 187
        }
      },
      "source": [
        "X = np.asarray(df[['male','age','currentSmoker','cigsPerDay','BPMeds','prevalentStroke','prevalentHyp','diabetes','totChol','sysBP','diaBP','BMI','heartRate','glucose']])\n",
        "X[0:5]"
      ],
      "execution_count": 52,
      "outputs": [
        {
          "output_type": "execute_result",
          "data": {
            "text/plain": [
              "array([[  1.  ,  39.  ,   0.  ,   0.  ,   0.  ,   0.  ,   0.  ,   0.  ,\n",
              "        195.  , 106.  ,  70.  ,  26.97,  80.  ,  77.  ],\n",
              "       [  0.  ,  46.  ,   0.  ,   0.  ,   0.  ,   0.  ,   0.  ,   0.  ,\n",
              "        250.  , 121.  ,  81.  ,  28.73,  95.  ,  76.  ],\n",
              "       [  1.  ,  48.  ,   1.  ,  20.  ,   0.  ,   0.  ,   0.  ,   0.  ,\n",
              "        245.  , 127.5 ,  80.  ,  25.34,  75.  ,  70.  ],\n",
              "       [  0.  ,  61.  ,   1.  ,  30.  ,   0.  ,   0.  ,   1.  ,   0.  ,\n",
              "        225.  , 150.  ,  95.  ,  28.58,  65.  , 103.  ],\n",
              "       [  0.  ,  46.  ,   1.  ,  23.  ,   0.  ,   0.  ,   0.  ,   0.  ,\n",
              "        285.  , 130.  ,  84.  ,  23.1 ,  85.  ,  85.  ]])"
            ]
          },
          "metadata": {
            "tags": []
          },
          "execution_count": 52
        }
      ]
    },
    {
      "cell_type": "code",
      "metadata": {
        "id": "VOZJ_YGdBm7F",
        "outputId": "9d14275d-bb63-4bd1-b95f-9e3248c02fd4",
        "colab": {
          "base_uri": "https://localhost:8080/",
          "height": 34
        }
      },
      "source": [
        "y=np.asarray(df['TenYearCHD'])\n",
        "y[0:5]"
      ],
      "execution_count": 53,
      "outputs": [
        {
          "output_type": "execute_result",
          "data": {
            "text/plain": [
              "array([0, 0, 0, 1, 0])"
            ]
          },
          "metadata": {
            "tags": []
          },
          "execution_count": 53
        }
      ]
    },
    {
      "cell_type": "code",
      "metadata": {
        "id": "DR_fLYA9HBWQ",
        "outputId": "843b5409-dc0a-4d58-a315-0a2c12fe3c26",
        "colab": {
          "base_uri": "https://localhost:8080/",
          "height": 272
        }
      },
      "source": [
        "from sklearn import preprocessing\n",
        "X = preprocessing.StandardScaler().fit(X).transform(X)\n",
        "X[0:5]"
      ],
      "execution_count": 54,
      "outputs": [
        {
          "output_type": "execute_result",
          "data": {
            "text/plain": [
              "array([[ 1.1531919 , -1.23495068, -0.98827076, -0.75132224, -0.17361158,\n",
              "        -0.07703255, -0.67110093, -0.16247659, -0.94134554, -1.19590711,\n",
              "        -1.08262515,  0.28694273,  0.34274444, -0.21751656],\n",
              "       [-0.86715836, -0.41825733, -0.98827076, -0.75132224, -0.17361158,\n",
              "        -0.07703255, -0.67110093, -0.16247659,  0.29959495, -0.51518725,\n",
              "        -0.15898843,  0.71932499,  1.59027451, -0.26131108],\n",
              "       [ 1.1531919 , -0.18491638,  1.01186844,  0.92920959, -0.17361158,\n",
              "        -0.07703255, -0.67110093, -0.16247659,  0.18678218, -0.22020864,\n",
              "        -0.24295541, -0.11350221, -0.07309892, -0.52407818],\n",
              "       [-0.86715836,  1.33179984,  1.01186844,  1.76947551, -0.17361158,\n",
              "        -0.07703255,  1.49008884, -0.16247659, -0.26446891,  0.80087114,\n",
              "         1.0165492 ,  0.68247423, -0.90478564,  0.92114088],\n",
              "       [-0.86715836, -0.41825733,  1.01186844,  1.18128937, -0.17361158,\n",
              "        -0.07703255, -0.67110093, -0.16247659,  1.08928436, -0.10675533,\n",
              "         0.09291249, -0.66380691,  0.75858779,  0.13283958]])"
            ]
          },
          "metadata": {
            "tags": []
          },
          "execution_count": 54
        }
      ]
    },
    {
      "cell_type": "code",
      "metadata": {
        "id": "nE5Wh1c-HOsS",
        "outputId": "95f9220f-1649-4d58-dd4d-9219386216df",
        "colab": {
          "base_uri": "https://localhost:8080/",
          "height": 51
        }
      },
      "source": [
        "from sklearn.model_selection import train_test_split\n",
        "X_train,X_test,y_train,y_test = train_test_split(X,y,test_size=0.2, random_state=4)\n",
        "print(\"train set : \", X_train.shape, y_train.shape)\n",
        "print(\"test set : \", X_test.shape, y_test.shape)"
      ],
      "execution_count": 56,
      "outputs": [
        {
          "output_type": "stream",
          "text": [
            "train set :  (3390, 14) (3390,)\n",
            "test set :  (848, 14) (848,)\n"
          ],
          "name": "stdout"
        }
      ]
    },
    {
      "cell_type": "code",
      "metadata": {
        "id": "MlRP6GMgHlm4",
        "outputId": "59d8157d-e90d-4f0d-e485-6efe6054952b",
        "colab": {
          "base_uri": "https://localhost:8080/",
          "height": 102
        }
      },
      "source": [
        "from sklearn.linear_model import LogisticRegression\n",
        "lr = LogisticRegression(C=0.01, solver='liblinear').fit(X_train,y_train)\n",
        "lr"
      ],
      "execution_count": 57,
      "outputs": [
        {
          "output_type": "execute_result",
          "data": {
            "text/plain": [
              "LogisticRegression(C=0.01, class_weight=None, dual=False, fit_intercept=True,\n",
              "                   intercept_scaling=1, l1_ratio=None, max_iter=100,\n",
              "                   multi_class='auto', n_jobs=None, penalty='l2',\n",
              "                   random_state=None, solver='liblinear', tol=0.0001, verbose=0,\n",
              "                   warm_start=False)"
            ]
          },
          "metadata": {
            "tags": []
          },
          "execution_count": 57
        }
      ]
    },
    {
      "cell_type": "code",
      "metadata": {
        "id": "2IP4mTrLIEF1",
        "outputId": "01d932d0-ae8f-4914-cb43-95004c3fd2bf",
        "colab": {
          "base_uri": "https://localhost:8080/",
          "height": 680
        }
      },
      "source": [
        "yhat = lr.predict(X_test)\n",
        "yhat"
      ],
      "execution_count": 59,
      "outputs": [
        {
          "output_type": "execute_result",
          "data": {
            "text/plain": [
              "array([0, 0, 0, 0, 0, 0, 0, 0, 0, 0, 0, 0, 0, 0, 0, 0, 0, 0, 0, 0, 0, 0,\n",
              "       0, 0, 1, 0, 0, 0, 0, 0, 0, 0, 0, 0, 0, 0, 0, 0, 0, 0, 0, 0, 0, 0,\n",
              "       0, 0, 0, 0, 0, 0, 0, 0, 0, 0, 0, 0, 0, 0, 0, 0, 0, 0, 0, 0, 0, 0,\n",
              "       0, 0, 0, 0, 0, 0, 0, 0, 0, 0, 0, 0, 0, 0, 0, 0, 0, 0, 0, 0, 0, 0,\n",
              "       0, 0, 0, 0, 0, 0, 0, 0, 0, 0, 0, 0, 1, 0, 0, 0, 0, 0, 0, 0, 0, 0,\n",
              "       0, 0, 0, 0, 0, 0, 0, 0, 0, 0, 0, 0, 1, 0, 0, 0, 0, 0, 0, 0, 0, 0,\n",
              "       0, 0, 0, 0, 0, 0, 0, 0, 0, 1, 0, 0, 0, 0, 0, 0, 0, 0, 0, 0, 0, 0,\n",
              "       0, 0, 0, 0, 0, 0, 0, 0, 0, 0, 0, 0, 0, 0, 0, 0, 0, 0, 0, 0, 0, 0,\n",
              "       0, 0, 0, 0, 0, 0, 0, 0, 0, 0, 0, 0, 0, 0, 0, 0, 0, 0, 0, 0, 0, 0,\n",
              "       0, 1, 0, 0, 0, 0, 0, 0, 0, 0, 0, 0, 0, 0, 0, 0, 0, 0, 0, 0, 0, 0,\n",
              "       0, 0, 0, 0, 0, 0, 0, 0, 0, 0, 0, 0, 0, 0, 0, 0, 0, 0, 0, 0, 0, 0,\n",
              "       0, 0, 0, 0, 0, 0, 0, 0, 0, 0, 0, 0, 0, 0, 0, 0, 0, 0, 0, 0, 0, 0,\n",
              "       0, 0, 0, 0, 0, 0, 0, 0, 0, 0, 0, 0, 0, 0, 0, 0, 0, 0, 0, 0, 0, 0,\n",
              "       0, 0, 0, 0, 0, 0, 0, 0, 0, 0, 0, 0, 0, 0, 0, 0, 0, 0, 0, 0, 0, 0,\n",
              "       0, 0, 0, 0, 0, 0, 0, 0, 0, 0, 0, 0, 0, 0, 0, 0, 0, 0, 0, 0, 0, 0,\n",
              "       0, 0, 0, 0, 0, 0, 0, 0, 0, 0, 0, 0, 0, 0, 0, 0, 0, 0, 0, 0, 0, 0,\n",
              "       0, 0, 0, 0, 0, 0, 0, 0, 0, 0, 0, 0, 0, 0, 0, 0, 0, 0, 0, 0, 0, 0,\n",
              "       0, 0, 0, 0, 0, 0, 0, 0, 0, 0, 0, 0, 0, 0, 0, 0, 0, 0, 0, 0, 0, 0,\n",
              "       0, 0, 0, 0, 0, 0, 0, 0, 0, 0, 0, 0, 0, 0, 0, 1, 0, 0, 0, 0, 0, 0,\n",
              "       0, 0, 0, 0, 0, 0, 0, 0, 0, 0, 0, 0, 0, 0, 0, 0, 0, 0, 0, 0, 0, 0,\n",
              "       0, 0, 0, 0, 0, 0, 0, 0, 0, 0, 0, 0, 0, 0, 0, 0, 0, 0, 0, 0, 0, 0,\n",
              "       0, 0, 0, 0, 0, 0, 0, 0, 0, 0, 0, 0, 0, 0, 0, 0, 0, 0, 0, 0, 0, 0,\n",
              "       0, 0, 0, 0, 0, 0, 0, 0, 0, 0, 0, 0, 0, 0, 0, 0, 0, 0, 0, 0, 0, 0,\n",
              "       0, 0, 0, 0, 0, 0, 0, 0, 0, 0, 0, 0, 0, 0, 0, 0, 0, 0, 0, 0, 0, 0,\n",
              "       0, 0, 0, 0, 0, 0, 0, 0, 0, 0, 0, 0, 0, 0, 0, 0, 1, 0, 0, 0, 0, 0,\n",
              "       0, 0, 0, 0, 0, 0, 0, 0, 0, 0, 0, 0, 0, 0, 0, 0, 0, 0, 0, 0, 0, 0,\n",
              "       0, 0, 0, 0, 0, 0, 0, 0, 0, 0, 0, 0, 1, 0, 0, 0, 0, 0, 0, 0, 0, 0,\n",
              "       0, 0, 0, 0, 0, 0, 0, 0, 0, 0, 0, 0, 0, 0, 0, 0, 0, 0, 0, 0, 0, 0,\n",
              "       0, 0, 0, 0, 0, 0, 0, 0, 0, 0, 0, 0, 0, 0, 0, 0, 0, 0, 0, 0, 0, 0,\n",
              "       0, 0, 0, 0, 0, 0, 0, 0, 0, 0, 0, 0, 0, 0, 0, 0, 0, 0, 0, 0, 0, 0,\n",
              "       0, 0, 0, 0, 0, 0, 0, 0, 0, 0, 0, 0, 0, 0, 0, 0, 0, 0, 0, 0, 0, 0,\n",
              "       0, 0, 0, 0, 0, 0, 0, 0, 0, 0, 0, 0, 0, 0, 0, 0, 0, 0, 0, 0, 0, 0,\n",
              "       0, 0, 0, 1, 0, 0, 0, 0, 0, 0, 0, 1, 0, 0, 0, 0, 0, 0, 0, 0, 0, 0,\n",
              "       0, 0, 0, 0, 0, 0, 0, 0, 0, 0, 0, 0, 0, 0, 0, 0, 0, 0, 0, 0, 0, 0,\n",
              "       0, 0, 0, 0, 0, 0, 0, 0, 0, 0, 0, 0, 0, 0, 0, 0, 0, 0, 0, 0, 0, 0,\n",
              "       0, 0, 0, 0, 0, 0, 0, 0, 0, 0, 0, 0, 0, 0, 0, 0, 0, 0, 0, 0, 0, 0,\n",
              "       0, 0, 0, 0, 0, 0, 0, 0, 0, 0, 0, 0, 0, 0, 0, 0, 0, 0, 0, 0, 0, 0,\n",
              "       0, 0, 0, 0, 0, 0, 0, 0, 0, 1, 0, 0, 0, 0, 0, 0, 0, 0, 0, 0, 0, 0,\n",
              "       0, 0, 0, 0, 0, 0, 1, 0, 0, 0, 0, 0])"
            ]
          },
          "metadata": {
            "tags": []
          },
          "execution_count": 59
        }
      ]
    },
    {
      "cell_type": "code",
      "metadata": {
        "id": "HO5eyTOdIHZG",
        "outputId": "137071c2-6ec5-443b-c168-134494535147",
        "colab": {
          "base_uri": "https://localhost:8080/",
          "height": 136
        }
      },
      "source": [
        "yhat_prob = lr.predict_proba(X_test)\n",
        "yhat_prob"
      ],
      "execution_count": 60,
      "outputs": [
        {
          "output_type": "execute_result",
          "data": {
            "text/plain": [
              "array([[0.88700844, 0.11299156],\n",
              "       [0.68390048, 0.31609952],\n",
              "       [0.88134417, 0.11865583],\n",
              "       ...,\n",
              "       [0.8143512 , 0.1856488 ],\n",
              "       [0.70270899, 0.29729101],\n",
              "       [0.82344672, 0.17655328]])"
            ]
          },
          "metadata": {
            "tags": []
          },
          "execution_count": 60
        }
      ]
    },
    {
      "cell_type": "code",
      "metadata": {
        "id": "A9rcNtbIIb7j",
        "outputId": "645d5f1d-9c96-412e-9480-adc215aadb3e",
        "colab": {
          "base_uri": "https://localhost:8080/",
          "height": 51
        }
      },
      "source": [
        "from sklearn.metrics import confusion_matrix, classification_report,log_loss\n",
        "print(confusion_matrix(y_test,yhat))"
      ],
      "execution_count": 64,
      "outputs": [
        {
          "output_type": "stream",
          "text": [
            "[[712   5]\n",
            " [124   7]]\n"
          ],
          "name": "stdout"
        }
      ]
    },
    {
      "cell_type": "code",
      "metadata": {
        "id": "g7OHezilIoe2",
        "outputId": "31e875b1-ff27-4aeb-ca83-d728732d1f9a",
        "colab": {
          "base_uri": "https://localhost:8080/",
          "height": 170
        }
      },
      "source": [
        "print(classification_report(y_test,yhat))"
      ],
      "execution_count": 62,
      "outputs": [
        {
          "output_type": "stream",
          "text": [
            "              precision    recall  f1-score   support\n",
            "\n",
            "           0       0.85      0.99      0.92       717\n",
            "           1       0.58      0.05      0.10       131\n",
            "\n",
            "    accuracy                           0.85       848\n",
            "   macro avg       0.72      0.52      0.51       848\n",
            "weighted avg       0.81      0.85      0.79       848\n",
            "\n"
          ],
          "name": "stdout"
        }
      ]
    },
    {
      "cell_type": "code",
      "metadata": {
        "id": "ePUVdyd6IPGK",
        "outputId": "18b5d3ba-0c1b-42eb-9c0c-d732a231533c",
        "colab": {
          "base_uri": "https://localhost:8080/",
          "height": 88
        }
      },
      "source": [
        "\n",
        "from sklearn.metrics import jaccard_similarity_score\n",
        "jaccard_similarity_score(y_test,yhat)"
      ],
      "execution_count": 63,
      "outputs": [
        {
          "output_type": "stream",
          "text": [
            "/usr/local/lib/python3.6/dist-packages/sklearn/metrics/_classification.py:664: FutureWarning: jaccard_similarity_score has been deprecated and replaced with jaccard_score. It will be removed in version 0.23. This implementation has surprising behavior for binary and multiclass classification tasks.\n",
            "  FutureWarning)\n"
          ],
          "name": "stderr"
        },
        {
          "output_type": "execute_result",
          "data": {
            "text/plain": [
              "0.847877358490566"
            ]
          },
          "metadata": {
            "tags": []
          },
          "execution_count": 63
        }
      ]
    },
    {
      "cell_type": "code",
      "metadata": {
        "id": "oCGIaTJgIwyj",
        "outputId": "e65f841b-a28e-4d56-b862-53c9a1fa54e3",
        "colab": {
          "base_uri": "https://localhost:8080/",
          "height": 34
        }
      },
      "source": [
        "log_loss(y_test,yhat_prob)"
      ],
      "execution_count": 65,
      "outputs": [
        {
          "output_type": "execute_result",
          "data": {
            "text/plain": [
              "0.3967944161264772"
            ]
          },
          "metadata": {
            "tags": []
          },
          "execution_count": 65
        }
      ]
    },
    {
      "cell_type": "code",
      "metadata": {
        "id": "-cgg4A47I4hc"
      },
      "source": [
        ""
      ],
      "execution_count": null,
      "outputs": []
    }
  ]
}