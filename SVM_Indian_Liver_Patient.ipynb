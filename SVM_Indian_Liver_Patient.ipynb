{
  "nbformat": 4,
  "nbformat_minor": 0,
  "metadata": {
    "kernelspec": {
      "display_name": "Python",
      "language": "python",
      "name": "conda-env-python-py"
    },
    "language_info": {
      "codemirror_mode": {
        "name": "ipython",
        "version": 3
      },
      "file_extension": ".py",
      "mimetype": "text/x-python",
      "name": "python",
      "nbconvert_exporter": "python",
      "pygments_lexer": "ipython3",
      "version": "3.6.11"
    },
    "colab": {
      "name": "SVM_Indian Liver Patient.ipynb",
      "provenance": [],
      "include_colab_link": true
    }
  },
  "cells": [
    {
      "cell_type": "markdown",
      "metadata": {
        "id": "view-in-github",
        "colab_type": "text"
      },
      "source": [
        "<a href=\"https://colab.research.google.com/github/inekeyuliam/data-science-classification-python/blob/master/SVM_Indian_Liver_Patient.ipynb\" target=\"_parent\"><img src=\"https://colab.research.google.com/assets/colab-badge.svg\" alt=\"Open In Colab\"/></a>"
      ]
    },
    {
      "cell_type": "code",
      "metadata": {
        "id": "mGjVgri1IpXy"
      },
      "source": [
        "import pandas as pd\n",
        "import pylab as pl\n",
        "import numpy as np\n",
        "import scipy.optimize as opt\n",
        "from sklearn import preprocessing\n",
        "from sklearn.model_selection import train_test_split\n",
        "%matplotlib inline\n",
        "import matplotlib.pyplot as plt\n"
      ],
      "execution_count": null,
      "outputs": []
    },
    {
      "cell_type": "code",
      "metadata": {
        "id": "Hzaug2GrIpX4",
        "outputId": "68deb990-3102-4113-99bd-b2d9fee94f83",
        "colab": {
          "base_uri": "https://localhost:8080/",
          "height": 224
        }
      },
      "source": [
        "df = pd.read_csv('indian_liver_patient.csv')\n",
        "df.head()"
      ],
      "execution_count": null,
      "outputs": [
        {
          "output_type": "execute_result",
          "data": {
            "text/html": [
              "<div>\n",
              "<style scoped>\n",
              "    .dataframe tbody tr th:only-of-type {\n",
              "        vertical-align: middle;\n",
              "    }\n",
              "\n",
              "    .dataframe tbody tr th {\n",
              "        vertical-align: top;\n",
              "    }\n",
              "\n",
              "    .dataframe thead th {\n",
              "        text-align: right;\n",
              "    }\n",
              "</style>\n",
              "<table border=\"1\" class=\"dataframe\">\n",
              "  <thead>\n",
              "    <tr style=\"text-align: right;\">\n",
              "      <th></th>\n",
              "      <th>Age</th>\n",
              "      <th>Gender</th>\n",
              "      <th>Total_Bilirubin</th>\n",
              "      <th>Direct_Bilirubin</th>\n",
              "      <th>Alkaline_Phosphotase</th>\n",
              "      <th>Alamine_Aminotransferase</th>\n",
              "      <th>Aspartate_Aminotransferase</th>\n",
              "      <th>Total_Protiens</th>\n",
              "      <th>Albumin</th>\n",
              "      <th>Albumin_and_Globulin_Ratio</th>\n",
              "      <th>Dataset</th>\n",
              "    </tr>\n",
              "  </thead>\n",
              "  <tbody>\n",
              "    <tr>\n",
              "      <th>0</th>\n",
              "      <td>65</td>\n",
              "      <td>Female</td>\n",
              "      <td>0.7</td>\n",
              "      <td>0.1</td>\n",
              "      <td>187</td>\n",
              "      <td>16</td>\n",
              "      <td>18</td>\n",
              "      <td>6.8</td>\n",
              "      <td>3.3</td>\n",
              "      <td>0.90</td>\n",
              "      <td>1</td>\n",
              "    </tr>\n",
              "    <tr>\n",
              "      <th>1</th>\n",
              "      <td>62</td>\n",
              "      <td>Male</td>\n",
              "      <td>10.9</td>\n",
              "      <td>5.5</td>\n",
              "      <td>699</td>\n",
              "      <td>64</td>\n",
              "      <td>100</td>\n",
              "      <td>7.5</td>\n",
              "      <td>3.2</td>\n",
              "      <td>0.74</td>\n",
              "      <td>1</td>\n",
              "    </tr>\n",
              "    <tr>\n",
              "      <th>2</th>\n",
              "      <td>62</td>\n",
              "      <td>Male</td>\n",
              "      <td>7.3</td>\n",
              "      <td>4.1</td>\n",
              "      <td>490</td>\n",
              "      <td>60</td>\n",
              "      <td>68</td>\n",
              "      <td>7.0</td>\n",
              "      <td>3.3</td>\n",
              "      <td>0.89</td>\n",
              "      <td>1</td>\n",
              "    </tr>\n",
              "    <tr>\n",
              "      <th>3</th>\n",
              "      <td>58</td>\n",
              "      <td>Male</td>\n",
              "      <td>1.0</td>\n",
              "      <td>0.4</td>\n",
              "      <td>182</td>\n",
              "      <td>14</td>\n",
              "      <td>20</td>\n",
              "      <td>6.8</td>\n",
              "      <td>3.4</td>\n",
              "      <td>1.00</td>\n",
              "      <td>1</td>\n",
              "    </tr>\n",
              "    <tr>\n",
              "      <th>4</th>\n",
              "      <td>72</td>\n",
              "      <td>Male</td>\n",
              "      <td>3.9</td>\n",
              "      <td>2.0</td>\n",
              "      <td>195</td>\n",
              "      <td>27</td>\n",
              "      <td>59</td>\n",
              "      <td>7.3</td>\n",
              "      <td>2.4</td>\n",
              "      <td>0.40</td>\n",
              "      <td>1</td>\n",
              "    </tr>\n",
              "  </tbody>\n",
              "</table>\n",
              "</div>"
            ],
            "text/plain": [
              "   Age  Gender  Total_Bilirubin  ...  Albumin  Albumin_and_Globulin_Ratio  Dataset\n",
              "0   65  Female              0.7  ...      3.3                        0.90        1\n",
              "1   62    Male             10.9  ...      3.2                        0.74        1\n",
              "2   62    Male              7.3  ...      3.3                        0.89        1\n",
              "3   58    Male              1.0  ...      3.4                        1.00        1\n",
              "4   72    Male              3.9  ...      2.4                        0.40        1\n",
              "\n",
              "[5 rows x 11 columns]"
            ]
          },
          "metadata": {
            "tags": []
          },
          "execution_count": 3
        }
      ]
    },
    {
      "cell_type": "code",
      "metadata": {
        "id": "NlmYeZiuIpX9",
        "outputId": "497a5a24-546c-40d2-8c15-f503b154a231",
        "colab": {
          "base_uri": "https://localhost:8080/",
          "height": 279
        }
      },
      "source": [
        "ax = df[df['Dataset'] == 1][0:50].plot(kind='scatter', x='Albumin', y='Total_Protiens', color='DarkBlue', label='liver');\n",
        "df[df['Dataset'] == 2][0:50].plot(kind='scatter', x='Albumin', y='Total_Protiens', color='Yellow', label='nonliver', ax=ax);\n",
        "plt.show()"
      ],
      "execution_count": null,
      "outputs": [
        {
          "output_type": "display_data",
          "data": {
            "image/png": "[encoded data removed]",
            "text/plain": [
              "<Figure size 432x288 with 1 Axes>"
            ]
          },
          "metadata": {
            "tags": [],
            "needs_background": "light"
          }
        }
      ]
    },
    {
      "cell_type": "code",
      "metadata": {
        "id": "_ZNeN2wbIpYA",
        "outputId": "0fdcb0d1-0cb6-4822-c255-3293e8c67418",
        "colab": {
          "base_uri": "https://localhost:8080/",
          "height": 782
        }
      },
      "source": [
        "#df['Dataset'].value_counts()\n",
        "# 1 means liver\n",
        "# 2 means non liver\n",
        "df.dtypes\n",
        "missing_data = df.isnull()\n",
        "missing_data.head(5)\n",
        "for column in missing_data.columns.values.tolist():\n",
        "    print(column)\n",
        "    print (missing_data[column].value_counts())\n",
        "    print(\"\")  "
      ],
      "execution_count": null,
      "outputs": [
        {
          "output_type": "stream",
          "text": [
            "Age\n",
            "False    583\n",
            "Name: Age, dtype: int64\n",
            "\n",
            "Gender\n",
            "False    583\n",
            "Name: Gender, dtype: int64\n",
            "\n",
            "Total_Bilirubin\n",
            "False    583\n",
            "Name: Total_Bilirubin, dtype: int64\n",
            "\n",
            "Direct_Bilirubin\n",
            "False    583\n",
            "Name: Direct_Bilirubin, dtype: int64\n",
            "\n",
            "Alkaline_Phosphotase\n",
            "False    583\n",
            "Name: Alkaline_Phosphotase, dtype: int64\n",
            "\n",
            "Alamine_Aminotransferase\n",
            "False    583\n",
            "Name: Alamine_Aminotransferase, dtype: int64\n",
            "\n",
            "Aspartate_Aminotransferase\n",
            "False    583\n",
            "Name: Aspartate_Aminotransferase, dtype: int64\n",
            "\n",
            "Total_Protiens\n",
            "False    583\n",
            "Name: Total_Protiens, dtype: int64\n",
            "\n",
            "Albumin\n",
            "False    583\n",
            "Name: Albumin, dtype: int64\n",
            "\n",
            "Albumin_and_Globulin_Ratio\n",
            "False    579\n",
            "True       4\n",
            "Name: Albumin_and_Globulin_Ratio, dtype: int64\n",
            "\n",
            "Dataset\n",
            "False    583\n",
            "Name: Dataset, dtype: int64\n",
            "\n"
          ],
          "name": "stdout"
        }
      ]
    },
    {
      "cell_type": "code",
      "metadata": {
        "id": "YZ4XZ5dsIpYE"
      },
      "source": [
        "avg_norm_loss = df[\"Albumin_and_Globulin_Ratio\"].astype(\"float\").mean(axis=0)\n",
        "df[\"Albumin_and_Globulin_Ratio\"].replace(np.nan, avg_norm_loss, inplace=True)"
      ],
      "execution_count": null,
      "outputs": []
    },
    {
      "cell_type": "markdown",
      "metadata": {
        "id": "a6bny5dfIpYI"
      },
      "source": [
        ""
      ]
    },
    {
      "cell_type": "code",
      "metadata": {
        "id": "nn-TXiI7IpYJ",
        "outputId": "60454e20-72aa-4644-efd7-6b065dc97367",
        "colab": {
          "base_uri": "https://localhost:8080/",
          "height": 221
        }
      },
      "source": [
        "df['Total_Bilirubin'] = df['Total_Bilirubin'].astype('int')\n",
        "df['Direct_Bilirubin'] = df['Direct_Bilirubin'].astype('int')\n",
        "df['Total_Protiens'] = df['Total_Protiens'].astype('int')\n",
        "df['Albumin'] = df['Albumin'].astype('int')\n",
        "df['Albumin_and_Globulin_Ratio'] = df['Albumin_and_Globulin_Ratio'].astype('int')\n",
        "\n",
        "\n",
        "feature_df = df[['Age','Gender','Total_Bilirubin','Direct_Bilirubin','Alkaline_Phosphotase','Alamine_Aminotransferase','Aspartate_Aminotransferase','Total_Protiens','Albumin','Albumin_and_Globulin_Ratio']].values\n",
        "df.dtypes\n",
        "  "
      ],
      "execution_count": null,
      "outputs": [
        {
          "output_type": "execute_result",
          "data": {
            "text/plain": [
              "Age                            int64\n",
              "Gender                        object\n",
              "Total_Bilirubin                int64\n",
              "Direct_Bilirubin               int64\n",
              "Alkaline_Phosphotase           int64\n",
              "Alamine_Aminotransferase       int64\n",
              "Aspartate_Aminotransferase     int64\n",
              "Total_Protiens                 int64\n",
              "Albumin                        int64\n",
              "Albumin_and_Globulin_Ratio     int64\n",
              "Dataset                        int64\n",
              "dtype: object"
            ]
          },
          "metadata": {
            "tags": []
          },
          "execution_count": 7
        }
      ]
    },
    {
      "cell_type": "code",
      "metadata": {
        "id": "YnDYjY0BIpYM"
      },
      "source": [
        "from sklearn.preprocessing import LabelEncoder\n",
        "\n",
        "le_sex = LabelEncoder()\n",
        "le_sex.fit(['Female','Male'])\n",
        "feature_df[:,1] = le_sex.transform(feature_df[:,1]) \n"
      ],
      "execution_count": null,
      "outputs": []
    },
    {
      "cell_type": "code",
      "metadata": {
        "id": "eh9fqbFcIpYR",
        "outputId": "7467b94f-e599-469e-bcbb-633bf97a4895",
        "colab": {
          "base_uri": "https://localhost:8080/",
          "height": 102
        }
      },
      "source": [
        "X = np.asarray(feature_df)\n",
        "X[0:5]\n"
      ],
      "execution_count": null,
      "outputs": [
        {
          "output_type": "execute_result",
          "data": {
            "text/plain": [
              "array([[65, 0, 0, 0, 187, 16, 18, 6, 3, 0],\n",
              "       [62, 1, 10, 5, 699, 64, 100, 7, 3, 0],\n",
              "       [62, 1, 7, 4, 490, 60, 68, 7, 3, 0],\n",
              "       [58, 1, 1, 0, 182, 14, 20, 6, 3, 1],\n",
              "       [72, 1, 3, 2, 195, 27, 59, 7, 2, 0]], dtype=object)"
            ]
          },
          "metadata": {
            "tags": []
          },
          "execution_count": 9
        }
      ]
    },
    {
      "cell_type": "code",
      "metadata": {
        "id": "vFa4aw0dIpYW",
        "outputId": "7415988c-5ba3-4776-94f5-d230c9f58b8c",
        "colab": {
          "base_uri": "https://localhost:8080/",
          "height": 34
        }
      },
      "source": [
        "y = np.asarray(df['Dataset'])\n",
        "y[0:5]\n"
      ],
      "execution_count": null,
      "outputs": [
        {
          "output_type": "execute_result",
          "data": {
            "text/plain": [
              "array([1, 1, 1, 1, 1])"
            ]
          },
          "metadata": {
            "tags": []
          },
          "execution_count": 10
        }
      ]
    },
    {
      "cell_type": "code",
      "metadata": {
        "id": "iUBW6Y6_IpYa",
        "outputId": "ab7c790a-336a-4501-ed20-dd9600049cf6",
        "colab": {
          "base_uri": "https://localhost:8080/",
          "height": 51
        }
      },
      "source": [
        "X_train,X_test,y_train,y_test=train_test_split(X,y,test_size=0.2,random_state=4)\n",
        "print(\"training set : \", X_train.shape, y_train.shape)\n",
        "print(\"test set : \", X_test.shape, y_test.shape)"
      ],
      "execution_count": null,
      "outputs": [
        {
          "output_type": "stream",
          "text": [
            "training set :  (466, 10) (466,)\n",
            "test set :  (117, 10) (117,)\n"
          ],
          "name": "stdout"
        }
      ]
    },
    {
      "cell_type": "code",
      "metadata": {
        "id": "QJVwvB3EIpYc",
        "outputId": "f1065610-e723-4e3f-c69e-f0752d243c9c",
        "colab": {
          "base_uri": "https://localhost:8080/",
          "height": 85
        }
      },
      "source": [
        "from sklearn import svm\n",
        "clf = svm.SVC(kernel='rbf')\n",
        "clf.fit(X_train, y_train)"
      ],
      "execution_count": null,
      "outputs": [
        {
          "output_type": "execute_result",
          "data": {
            "text/plain": [
              "SVC(C=1.0, break_ties=False, cache_size=200, class_weight=None, coef0=0.0,\n",
              "    decision_function_shape='ovr', degree=3, gamma='scale', kernel='rbf',\n",
              "    max_iter=-1, probability=False, random_state=None, shrinking=True,\n",
              "    tol=0.001, verbose=False)"
            ]
          },
          "metadata": {
            "tags": []
          },
          "execution_count": 20
        }
      ]
    },
    {
      "cell_type": "code",
      "metadata": {
        "id": "tKdu9m_dIpYf",
        "outputId": "3533636a-8049-40ec-dadd-2fd623226423",
        "colab": {
          "base_uri": "https://localhost:8080/",
          "height": 34
        }
      },
      "source": [
        "yhat = clf.predict(X_test)\n",
        "yhat[0:5]"
      ],
      "execution_count": null,
      "outputs": [
        {
          "output_type": "execute_result",
          "data": {
            "text/plain": [
              "array([1, 1, 1, 1, 1])"
            ]
          },
          "metadata": {
            "tags": []
          },
          "execution_count": 21
        }
      ]
    },
    {
      "cell_type": "code",
      "metadata": {
        "id": "JeauKX_8IpYi",
        "outputId": "12bf845d-2b02-49b6-ee42-d6e3f02d7644",
        "colab": {
          "base_uri": "https://localhost:8080/",
          "height": 105
        }
      },
      "source": [
        "from sklearn.metrics import f1_score\n",
        "from sklearn.metrics import jaccard_similarity_score\n",
        "\n",
        "print(\"Avg F1-score: %.4f\" % f1_score(y_test, yhat, average='weighted'))\n",
        "print(\"Jaccard score: %.4f\" % jaccard_similarity_score(y_test, yhat))\n"
      ],
      "execution_count": null,
      "outputs": [
        {
          "output_type": "stream",
          "text": [
            "Avg F1-score: 0.5553\n",
            "Jaccard score: 0.6838\n"
          ],
          "name": "stdout"
        },
        {
          "output_type": "stream",
          "text": [
            "/usr/local/lib/python3.6/dist-packages/sklearn/metrics/_classification.py:664: FutureWarning: jaccard_similarity_score has been deprecated and replaced with jaccard_score. It will be removed in version 0.23. This implementation has surprising behavior for binary and multiclass classification tasks.\n",
            "  FutureWarning)\n"
          ],
          "name": "stderr"
        }
      ]
    },
    {
      "cell_type": "code",
      "metadata": {
        "id": "-E517EGtIpYl"
      },
      "source": [
        ""
      ],
      "execution_count": null,
      "outputs": []
    }
  ]
}