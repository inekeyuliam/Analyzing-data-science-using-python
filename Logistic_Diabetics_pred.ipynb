{
  "nbformat": 4,
  "nbformat_minor": 0,
  "metadata": {
    "colab": {
      "name": "Logistic_Diabetics_pred",
      "provenance": [],
      "collapsed_sections": [],
      "authorship_tag": "ABX9TyMMG8Pcl2nkjXvNMlrpc2ER",
      "include_colab_link": true
    },
    "kernelspec": {
      "name": "python3",
      "display_name": "Python 3"
    }
  },
  "cells": [
    {
      "cell_type": "markdown",
      "metadata": {
        "id": "view-in-github",
        "colab_type": "text"
      },
      "source": [
        "<a href=\"https://colab.research.google.com/github/inekeyuliam/data-science-classification-python/blob/master/Logistic_Diabetics_pred.ipynb\" target=\"_parent\"><img src=\"https://colab.research.google.com/assets/colab-badge.svg\" alt=\"Open In Colab\"/></a>"
      ]
    },
    {
      "cell_type": "code",
      "metadata": {
        "id": "Dd-sXZrkgDXK"
      },
      "source": [
        "import numpy as np\n",
        "import pandas as pd\n",
        "import pylab as pl\n",
        "%matplotlib inline\n",
        "import matplotlib.pyplot as plt"
      ],
      "execution_count": null,
      "outputs": []
    },
    {
      "cell_type": "code",
      "metadata": {
        "id": "ENA_II4okuBx",
        "outputId": "86b63fba-5828-4804-b923-bba85f486878",
        "colab": {
          "base_uri": "https://localhost:8080/",
          "height": 419
        }
      },
      "source": [
        "df = pd.read_csv('diabetes2.csv')\n",
        "df\n"
      ],
      "execution_count": null,
      "outputs": [
        {
          "output_type": "execute_result",
          "data": {
            "text/html": [
              "<div>\n",
              "<style scoped>\n",
              "    .dataframe tbody tr th:only-of-type {\n",
              "        vertical-align: middle;\n",
              "    }\n",
              "\n",
              "    .dataframe tbody tr th {\n",
              "        vertical-align: top;\n",
              "    }\n",
              "\n",
              "    .dataframe thead th {\n",
              "        text-align: right;\n",
              "    }\n",
              "</style>\n",
              "<table border=\"1\" class=\"dataframe\">\n",
              "  <thead>\n",
              "    <tr style=\"text-align: right;\">\n",
              "      <th></th>\n",
              "      <th>Pregnancies</th>\n",
              "      <th>Glucose</th>\n",
              "      <th>BloodPressure</th>\n",
              "      <th>SkinThickness</th>\n",
              "      <th>Insulin</th>\n",
              "      <th>BMI</th>\n",
              "      <th>DiabetesPedigreeFunction</th>\n",
              "      <th>Age</th>\n",
              "      <th>Outcome</th>\n",
              "    </tr>\n",
              "  </thead>\n",
              "  <tbody>\n",
              "    <tr>\n",
              "      <th>0</th>\n",
              "      <td>6</td>\n",
              "      <td>148</td>\n",
              "      <td>72</td>\n",
              "      <td>35</td>\n",
              "      <td>0</td>\n",
              "      <td>33.6</td>\n",
              "      <td>0.627</td>\n",
              "      <td>50</td>\n",
              "      <td>1</td>\n",
              "    </tr>\n",
              "    <tr>\n",
              "      <th>1</th>\n",
              "      <td>1</td>\n",
              "      <td>85</td>\n",
              "      <td>66</td>\n",
              "      <td>29</td>\n",
              "      <td>0</td>\n",
              "      <td>26.6</td>\n",
              "      <td>0.351</td>\n",
              "      <td>31</td>\n",
              "      <td>0</td>\n",
              "    </tr>\n",
              "    <tr>\n",
              "      <th>2</th>\n",
              "      <td>8</td>\n",
              "      <td>183</td>\n",
              "      <td>64</td>\n",
              "      <td>0</td>\n",
              "      <td>0</td>\n",
              "      <td>23.3</td>\n",
              "      <td>0.672</td>\n",
              "      <td>32</td>\n",
              "      <td>1</td>\n",
              "    </tr>\n",
              "    <tr>\n",
              "      <th>3</th>\n",
              "      <td>1</td>\n",
              "      <td>89</td>\n",
              "      <td>66</td>\n",
              "      <td>23</td>\n",
              "      <td>94</td>\n",
              "      <td>28.1</td>\n",
              "      <td>0.167</td>\n",
              "      <td>21</td>\n",
              "      <td>0</td>\n",
              "    </tr>\n",
              "    <tr>\n",
              "      <th>4</th>\n",
              "      <td>0</td>\n",
              "      <td>137</td>\n",
              "      <td>40</td>\n",
              "      <td>35</td>\n",
              "      <td>168</td>\n",
              "      <td>43.1</td>\n",
              "      <td>2.288</td>\n",
              "      <td>33</td>\n",
              "      <td>1</td>\n",
              "    </tr>\n",
              "    <tr>\n",
              "      <th>...</th>\n",
              "      <td>...</td>\n",
              "      <td>...</td>\n",
              "      <td>...</td>\n",
              "      <td>...</td>\n",
              "      <td>...</td>\n",
              "      <td>...</td>\n",
              "      <td>...</td>\n",
              "      <td>...</td>\n",
              "      <td>...</td>\n",
              "    </tr>\n",
              "    <tr>\n",
              "      <th>763</th>\n",
              "      <td>10</td>\n",
              "      <td>101</td>\n",
              "      <td>76</td>\n",
              "      <td>48</td>\n",
              "      <td>180</td>\n",
              "      <td>32.9</td>\n",
              "      <td>0.171</td>\n",
              "      <td>63</td>\n",
              "      <td>0</td>\n",
              "    </tr>\n",
              "    <tr>\n",
              "      <th>764</th>\n",
              "      <td>2</td>\n",
              "      <td>122</td>\n",
              "      <td>70</td>\n",
              "      <td>27</td>\n",
              "      <td>0</td>\n",
              "      <td>36.8</td>\n",
              "      <td>0.340</td>\n",
              "      <td>27</td>\n",
              "      <td>0</td>\n",
              "    </tr>\n",
              "    <tr>\n",
              "      <th>765</th>\n",
              "      <td>5</td>\n",
              "      <td>121</td>\n",
              "      <td>72</td>\n",
              "      <td>23</td>\n",
              "      <td>112</td>\n",
              "      <td>26.2</td>\n",
              "      <td>0.245</td>\n",
              "      <td>30</td>\n",
              "      <td>0</td>\n",
              "    </tr>\n",
              "    <tr>\n",
              "      <th>766</th>\n",
              "      <td>1</td>\n",
              "      <td>126</td>\n",
              "      <td>60</td>\n",
              "      <td>0</td>\n",
              "      <td>0</td>\n",
              "      <td>30.1</td>\n",
              "      <td>0.349</td>\n",
              "      <td>47</td>\n",
              "      <td>1</td>\n",
              "    </tr>\n",
              "    <tr>\n",
              "      <th>767</th>\n",
              "      <td>1</td>\n",
              "      <td>93</td>\n",
              "      <td>70</td>\n",
              "      <td>31</td>\n",
              "      <td>0</td>\n",
              "      <td>30.4</td>\n",
              "      <td>0.315</td>\n",
              "      <td>23</td>\n",
              "      <td>0</td>\n",
              "    </tr>\n",
              "  </tbody>\n",
              "</table>\n",
              "<p>768 rows × 9 columns</p>\n",
              "</div>"
            ],
            "text/plain": [
              "     Pregnancies  Glucose  ...  Age  Outcome\n",
              "0              6      148  ...   50        1\n",
              "1              1       85  ...   31        0\n",
              "2              8      183  ...   32        1\n",
              "3              1       89  ...   21        0\n",
              "4              0      137  ...   33        1\n",
              "..           ...      ...  ...  ...      ...\n",
              "763           10      101  ...   63        0\n",
              "764            2      122  ...   27        0\n",
              "765            5      121  ...   30        0\n",
              "766            1      126  ...   47        1\n",
              "767            1       93  ...   23        0\n",
              "\n",
              "[768 rows x 9 columns]"
            ]
          },
          "metadata": {
            "tags": []
          },
          "execution_count": 57
        }
      ]
    },
    {
      "cell_type": "code",
      "metadata": {
        "id": "Pfv25QWWuXvH",
        "outputId": "7bb36e81-67ea-42c6-fa1e-de7ebf2d521c",
        "colab": {
          "base_uri": "https://localhost:8080/",
          "height": 34
        }
      },
      "source": [
        "avg_insulin = df['Insulin'].astype('float').mean(axis=0)\n",
        "print(avg_insulin)\n",
        "df['Insulin'].replace(0,avg_insulin,inplace=True)"
      ],
      "execution_count": null,
      "outputs": [
        {
          "output_type": "stream",
          "text": [
            "79.79947916666667\n"
          ],
          "name": "stdout"
        }
      ]
    },
    {
      "cell_type": "code",
      "metadata": {
        "id": "17pQHPsKvJJt",
        "outputId": "ca8d3a85-db22-4a17-cd4f-fceb60838032",
        "colab": {
          "base_uri": "https://localhost:8080/",
          "height": 204
        }
      },
      "source": [
        "df.head()"
      ],
      "execution_count": null,
      "outputs": [
        {
          "output_type": "execute_result",
          "data": {
            "text/html": [
              "<div>\n",
              "<style scoped>\n",
              "    .dataframe tbody tr th:only-of-type {\n",
              "        vertical-align: middle;\n",
              "    }\n",
              "\n",
              "    .dataframe tbody tr th {\n",
              "        vertical-align: top;\n",
              "    }\n",
              "\n",
              "    .dataframe thead th {\n",
              "        text-align: right;\n",
              "    }\n",
              "</style>\n",
              "<table border=\"1\" class=\"dataframe\">\n",
              "  <thead>\n",
              "    <tr style=\"text-align: right;\">\n",
              "      <th></th>\n",
              "      <th>Pregnancies</th>\n",
              "      <th>Glucose</th>\n",
              "      <th>BloodPressure</th>\n",
              "      <th>SkinThickness</th>\n",
              "      <th>Insulin</th>\n",
              "      <th>BMI</th>\n",
              "      <th>DiabetesPedigreeFunction</th>\n",
              "      <th>Age</th>\n",
              "      <th>Outcome</th>\n",
              "    </tr>\n",
              "  </thead>\n",
              "  <tbody>\n",
              "    <tr>\n",
              "      <th>0</th>\n",
              "      <td>6</td>\n",
              "      <td>148</td>\n",
              "      <td>72</td>\n",
              "      <td>35</td>\n",
              "      <td>79.799479</td>\n",
              "      <td>33.6</td>\n",
              "      <td>0.627</td>\n",
              "      <td>50</td>\n",
              "      <td>1</td>\n",
              "    </tr>\n",
              "    <tr>\n",
              "      <th>1</th>\n",
              "      <td>1</td>\n",
              "      <td>85</td>\n",
              "      <td>66</td>\n",
              "      <td>29</td>\n",
              "      <td>79.799479</td>\n",
              "      <td>26.6</td>\n",
              "      <td>0.351</td>\n",
              "      <td>31</td>\n",
              "      <td>0</td>\n",
              "    </tr>\n",
              "    <tr>\n",
              "      <th>2</th>\n",
              "      <td>8</td>\n",
              "      <td>183</td>\n",
              "      <td>64</td>\n",
              "      <td>0</td>\n",
              "      <td>79.799479</td>\n",
              "      <td>23.3</td>\n",
              "      <td>0.672</td>\n",
              "      <td>32</td>\n",
              "      <td>1</td>\n",
              "    </tr>\n",
              "    <tr>\n",
              "      <th>3</th>\n",
              "      <td>1</td>\n",
              "      <td>89</td>\n",
              "      <td>66</td>\n",
              "      <td>23</td>\n",
              "      <td>94.000000</td>\n",
              "      <td>28.1</td>\n",
              "      <td>0.167</td>\n",
              "      <td>21</td>\n",
              "      <td>0</td>\n",
              "    </tr>\n",
              "    <tr>\n",
              "      <th>4</th>\n",
              "      <td>0</td>\n",
              "      <td>137</td>\n",
              "      <td>40</td>\n",
              "      <td>35</td>\n",
              "      <td>168.000000</td>\n",
              "      <td>43.1</td>\n",
              "      <td>2.288</td>\n",
              "      <td>33</td>\n",
              "      <td>1</td>\n",
              "    </tr>\n",
              "  </tbody>\n",
              "</table>\n",
              "</div>"
            ],
            "text/plain": [
              "   Pregnancies  Glucose  BloodPressure  ...  DiabetesPedigreeFunction  Age  Outcome\n",
              "0            6      148             72  ...                     0.627   50        1\n",
              "1            1       85             66  ...                     0.351   31        0\n",
              "2            8      183             64  ...                     0.672   32        1\n",
              "3            1       89             66  ...                     0.167   21        0\n",
              "4            0      137             40  ...                     2.288   33        1\n",
              "\n",
              "[5 rows x 9 columns]"
            ]
          },
          "metadata": {
            "tags": []
          },
          "execution_count": 61
        }
      ]
    },
    {
      "cell_type": "code",
      "metadata": {
        "id": "9S-pFSgLky5e",
        "outputId": "13b95f82-9a57-4ffa-fd79-f29fc3628952",
        "colab": {
          "base_uri": "https://localhost:8080/",
          "height": 629
        }
      },
      "source": [
        "missingvalues = df.isnull()\n",
        "for column in missingvalues:\n",
        "  print(column)\n",
        "  print(missingvalues[column].value_counts())\n",
        "  print(\"\")"
      ],
      "execution_count": null,
      "outputs": [
        {
          "output_type": "stream",
          "text": [
            "Pregnancies\n",
            "False    768\n",
            "Name: Pregnancies, dtype: int64\n",
            "\n",
            "Glucose\n",
            "False    768\n",
            "Name: Glucose, dtype: int64\n",
            "\n",
            "BloodPressure\n",
            "False    768\n",
            "Name: BloodPressure, dtype: int64\n",
            "\n",
            "SkinThickness\n",
            "False    768\n",
            "Name: SkinThickness, dtype: int64\n",
            "\n",
            "Insulin\n",
            "False    768\n",
            "Name: Insulin, dtype: int64\n",
            "\n",
            "BMI\n",
            "False    768\n",
            "Name: BMI, dtype: int64\n",
            "\n",
            "DiabetesPedigreeFunction\n",
            "False    768\n",
            "Name: DiabetesPedigreeFunction, dtype: int64\n",
            "\n",
            "Age\n",
            "False    768\n",
            "Name: Age, dtype: int64\n",
            "\n",
            "Outcome\n",
            "False    768\n",
            "Name: Outcome, dtype: int64\n",
            "\n"
          ],
          "name": "stdout"
        }
      ]
    },
    {
      "cell_type": "code",
      "metadata": {
        "id": "qyCtmc0AlHUO",
        "outputId": "19305fe3-427a-4f65-de33-00fc3530aad8",
        "colab": {
          "base_uri": "https://localhost:8080/",
          "height": 187
        }
      },
      "source": [
        "X =np.asarray(df[['Pregnancies','Glucose','BloodPressure','SkinThickness','Insulin','BMI','DiabetesPedigreeFunction','Age']])\n",
        "X[0:5]"
      ],
      "execution_count": null,
      "outputs": [
        {
          "output_type": "execute_result",
          "data": {
            "text/plain": [
              "array([[6.00000000e+00, 1.48000000e+02, 7.20000000e+01, 3.50000000e+01,\n",
              "        7.97994792e+01, 3.36000000e+01, 6.27000000e-01, 5.00000000e+01],\n",
              "       [1.00000000e+00, 8.50000000e+01, 6.60000000e+01, 2.90000000e+01,\n",
              "        7.97994792e+01, 2.66000000e+01, 3.51000000e-01, 3.10000000e+01],\n",
              "       [8.00000000e+00, 1.83000000e+02, 6.40000000e+01, 0.00000000e+00,\n",
              "        7.97994792e+01, 2.33000000e+01, 6.72000000e-01, 3.20000000e+01],\n",
              "       [1.00000000e+00, 8.90000000e+01, 6.60000000e+01, 2.30000000e+01,\n",
              "        9.40000000e+01, 2.81000000e+01, 1.67000000e-01, 2.10000000e+01],\n",
              "       [0.00000000e+00, 1.37000000e+02, 4.00000000e+01, 3.50000000e+01,\n",
              "        1.68000000e+02, 4.31000000e+01, 2.28800000e+00, 3.30000000e+01]])"
            ]
          },
          "metadata": {
            "tags": []
          },
          "execution_count": 70
        }
      ]
    },
    {
      "cell_type": "code",
      "metadata": {
        "id": "pCYmHg1XlcC7",
        "outputId": "1f32ef84-bcbb-456c-d779-e82cda233560",
        "colab": {
          "base_uri": "https://localhost:8080/",
          "height": 34
        }
      },
      "source": [
        "y = np.asarray(df['Outcome'])\n",
        "y[0:5]"
      ],
      "execution_count": null,
      "outputs": [
        {
          "output_type": "execute_result",
          "data": {
            "text/plain": [
              "array([1, 0, 1, 0, 1])"
            ]
          },
          "metadata": {
            "tags": []
          },
          "execution_count": 71
        }
      ]
    },
    {
      "cell_type": "code",
      "metadata": {
        "id": "qAsOCkeKlnhi",
        "outputId": "46239f4a-624c-435f-e318-2ae91a61738d",
        "colab": {
          "base_uri": "https://localhost:8080/",
          "height": 187
        }
      },
      "source": [
        "from sklearn import preprocessing\n",
        "X = preprocessing.StandardScaler().fit(X).transform(X)\n",
        "X[0:5]"
      ],
      "execution_count": null,
      "outputs": [
        {
          "output_type": "execute_result",
          "data": {
            "text/plain": [
              "array([[ 0.63994726,  0.84832379,  0.14964075,  0.90726993, -0.41776815,\n",
              "         0.20401277,  0.46849198,  1.4259954 ],\n",
              "       [-0.84488505, -1.12339636, -0.16054575,  0.53090156, -0.41776815,\n",
              "        -0.68442195, -0.36506078, -0.19067191],\n",
              "       [ 1.23388019,  1.94372388, -0.26394125, -1.28821221, -0.41776815,\n",
              "        -1.10325546,  0.60439732, -0.10558415],\n",
              "       [-0.84488505, -0.99820778, -0.16054575,  0.15453319, -0.26510678,\n",
              "        -0.49404308, -0.92076261, -1.04154944],\n",
              "       [-1.14185152,  0.5040552 , -1.50468724,  0.90726993,  0.5304233 ,\n",
              "         1.4097456 ,  5.4849091 , -0.0204964 ]])"
            ]
          },
          "metadata": {
            "tags": []
          },
          "execution_count": 72
        }
      ]
    },
    {
      "cell_type": "code",
      "metadata": {
        "id": "FXF0wplQl1gD",
        "outputId": "31832803-8a2a-47c1-e1bd-843ef59e26ee",
        "colab": {
          "base_uri": "https://localhost:8080/",
          "height": 799
        }
      },
      "source": [
        "from sklearn.model_selection import train_test_split\n",
        "X_train,X_test,y_train,y_test = train_test_split(X,y,test_size=0.2, random_state=6)\n",
        "print(\"train : \", X_train, y_train)\n",
        "print(\"test : \" , X_test, y_test)"
      ],
      "execution_count": null,
      "outputs": [
        {
          "output_type": "stream",
          "text": [
            "train :  [[-0.54791859 -0.68523633  0.04624525 ... -1.47132127 -0.71539454\n",
            "  -0.53102292]\n",
            " [-0.84488505 -0.05929342  0.87340925 ...  1.72704372  1.01513346\n",
            "  -0.36084741]\n",
            " [-0.84488505 -1.5615564   0.45982725 ...  0.15324507 -0.15063235\n",
            "  -1.04154944]\n",
            " ...\n",
            " [ 1.53084665 -0.27837344  0.66661825 ... -0.48135115  2.44666971\n",
            "   1.4259954 ]\n",
            " [-0.25095213  1.28648383 -0.88431425 ...  0.66092205  0.54399494\n",
            "  -0.78628618]\n",
            " [-1.14185152  0.41016376 -0.57412775 ... -0.7098058  -0.36204066\n",
            "  -1.04154944]] [0 1 0 1 1 0 0 1 1 0 0 0 0 0 0 0 0 0 0 0 1 0 0 1 1 1 0 0 0 0 1 1 0 0 1 0 1\n",
            " 1 0 0 1 0 0 1 1 0 0 0 1 1 0 0 0 0 0 0 1 1 1 0 0 0 0 0 0 1 0 1 1 0 0 0 0 0\n",
            " 1 1 0 0 0 0 1 0 0 0 0 0 0 0 0 0 0 0 0 1 1 1 0 0 0 0 0 1 0 0 0 0 0 1 0 1 0\n",
            " 1 1 0 0 0 0 0 0 0 0 1 1 0 0 0 0 0 1 1 1 0 0 0 0 1 1 0 0 0 0 0 0 1 1 0 0 0\n",
            " 1 0 1 1 1 0 1 0 0 0 0 1 0 0 0 0 1 0 0 1 0 0 0 1 1 0 1 0 1 0 1 0 1 0 0 0 1\n",
            " 0 1 0 1 0 1 0 1 1 1 1 0 1 0 0 1 1 0 0 0 0 0 0 0 0 1 0 0 0 0 0 1 1 1 1 1 1\n",
            " 0 0 0 1 0 0 0 0 0 0 1 0 0 0 0 0 0 0 1 1 1 0 1 0 1 0 0 1 0 0 1 1 1 1 1 1 0\n",
            " 0 0 0 0 1 0 0 1 0 1 1 0 1 0 0 0 0 1 0 1 1 1 1 0 1 0 0 0 0 1 0 0 1 0 1 0 1\n",
            " 1 0 1 0 0 1 1 0 0 0 1 0 0 1 1 1 0 1 1 1 0 0 1 1 0 0 1 0 1 1 0 1 0 0 0 1 1\n",
            " 0 0 1 0 0 0 1 1 0 0 0 0 0 0 1 0 0 0 0 1 1 0 1 0 1 1 0 1 0 1 0 1 0 1 0 1 0\n",
            " 1 0 0 1 0 0 1 0 1 0 1 0 1 0 1 0 0 0 1 0 0 1 0 0 0 0 0 0 0 0 1 0 1 0 0 1 1\n",
            " 1 0 1 0 0 1 0 0 0 0 0 1 1 0 0 1 1 1 0 1 0 0 0 1 0 1 0 1 0 0 0 0 0 0 0 0 1\n",
            " 0 0 0 0 0 1 0 0 0 0 0 1 0 0 0 0 1 0 0 1 1 0 1 0 0 0 1 1 0 0 0 0 1 1 1 0 0\n",
            " 1 0 1 0 0 0 0 0 1 1 0 1 0 0 0 1 1 0 0 0 1 1 1 1 0 0 1 0 0 0 1 1 0 0 0 0 0\n",
            " 0 0 0 0 1 1 1 0 0 0 0 0 0 0 1 0 0 0 0 1 0 0 0 0 0 1 1 0 1 0 1 1 0 0 1 0 0\n",
            " 0 0 0 0 0 1 0 0 0 1 0 0 1 0 0 1 0 0 0 1 1 0 0 1 0 0 0 0 1 1 0 0 0 0 0 0 0\n",
            " 1 0 1 1 0 0 1 0 0 1 0 0 0 0 0 0 0 0 0 1 1 0]\n",
            "test :  [[-1.14185152 -0.5287506   0.35643175 ... -1.72515976  0.33258664\n",
            "  -0.53102292]\n",
            " [ 0.63994726 -0.05929342 -0.98770975 ... -0.62096232  2.55539398\n",
            "  -0.0204964 ]\n",
            " [-0.54791859  0.03459802  0.04624525 ...  0.61015436 -0.39828208\n",
            "  -0.53102292]\n",
            " ...\n",
            " [-1.14185152 -1.68674498  0.35643175 ...  1.68896794 -0.83921941\n",
            "   1.08564439]\n",
            " [-0.25095213  0.09719231  0.56322275 ...  0.15324507 -0.50398624\n",
            "  -0.61611067]\n",
            " [ 1.23388019  1.44296956  1.90736425 ...  0.71168975 -0.92680285\n",
            "   0.83038113]] [0 1 0 0 0 0 0 0 0 0 0 1 1 1 0 0 0 1 0 1 0 1 0 0 1 0 1 1 1 1 1 0 0 0 0 0 1\n",
            " 0 0 0 0 0 0 0 0 0 1 0 1 0 0 0 1 0 1 0 0 1 1 0 1 0 1 1 0 0 0 1 0 0 0 0 1 0\n",
            " 0 1 1 1 1 0 0 1 1 0 0 0 1 0 1 1 1 1 0 1 0 0 0 1 0 0 0 0 0 1 0 0 0 1 0 1 0\n",
            " 0 1 0 1 1 0 0 1 0 0 0 0 0 0 0 0 0 0 0 0 0 0 0 0 0 0 1 0 0 0 0 0 0 1 1 0 0\n",
            " 0 1 1 0 0 1]\n"
          ],
          "name": "stdout"
        }
      ]
    },
    {
      "cell_type": "code",
      "metadata": {
        "id": "foZ3oEyPmQVJ",
        "outputId": "aafa2bf3-d347-426c-dd44-733de4cf7e88",
        "colab": {
          "base_uri": "https://localhost:8080/",
          "height": 102
        }
      },
      "source": [
        "from sklearn.linear_model import LogisticRegression\n",
        "lr = LogisticRegression(C=0.01, solver='liblinear').fit(X_train,y_train)\n",
        "lr\n"
      ],
      "execution_count": null,
      "outputs": [
        {
          "output_type": "execute_result",
          "data": {
            "text/plain": [
              "LogisticRegression(C=0.01, class_weight=None, dual=False, fit_intercept=True,\n",
              "                   intercept_scaling=1, l1_ratio=None, max_iter=100,\n",
              "                   multi_class='auto', n_jobs=None, penalty='l2',\n",
              "                   random_state=None, solver='liblinear', tol=0.0001, verbose=0,\n",
              "                   warm_start=False)"
            ]
          },
          "metadata": {
            "tags": []
          },
          "execution_count": 78
        }
      ]
    },
    {
      "cell_type": "code",
      "metadata": {
        "id": "UtUOrvFhmnv7",
        "outputId": "7f4a9ecb-8c7b-44ec-cc1b-adf925191aaf",
        "colab": {
          "base_uri": "https://localhost:8080/",
          "height": 136
        }
      },
      "source": [
        "yhat = lr.predict(X_test)\n",
        "yhat"
      ],
      "execution_count": null,
      "outputs": [
        {
          "output_type": "execute_result",
          "data": {
            "text/plain": [
              "array([0, 0, 0, 0, 0, 0, 0, 0, 0, 0, 0, 1, 1, 1, 0, 0, 1, 0, 0, 1, 0, 0,\n",
              "       0, 0, 0, 0, 0, 0, 0, 0, 1, 1, 0, 1, 0, 0, 0, 1, 0, 0, 0, 1, 1, 0,\n",
              "       0, 0, 0, 0, 1, 0, 0, 0, 1, 0, 0, 0, 0, 0, 1, 0, 1, 1, 1, 0, 0, 0,\n",
              "       1, 1, 0, 0, 0, 1, 1, 0, 0, 0, 1, 1, 0, 0, 0, 1, 0, 0, 0, 0, 1, 0,\n",
              "       1, 1, 0, 0, 0, 1, 0, 0, 0, 1, 1, 0, 0, 0, 0, 0, 0, 0, 0, 1, 0, 1,\n",
              "       0, 0, 1, 0, 1, 1, 0, 0, 1, 0, 0, 0, 1, 0, 0, 0, 0, 0, 0, 0, 0, 0,\n",
              "       0, 0, 0, 0, 0, 1, 0, 0, 0, 0, 0, 0, 1, 0, 0, 1, 0, 1, 1, 0, 0, 1])"
            ]
          },
          "metadata": {
            "tags": []
          },
          "execution_count": 79
        }
      ]
    },
    {
      "cell_type": "code",
      "metadata": {
        "id": "Je0VwaeEmtIj",
        "outputId": "c3632b8a-8b4c-4877-f23e-8db3d225e44a",
        "colab": {
          "base_uri": "https://localhost:8080/",
          "height": 88
        }
      },
      "source": [
        "from sklearn.metrics import jaccard_similarity_score, confusion_matrix,log_loss, classification_report\n",
        "jaccard_similarity_score(y_test, yhat)"
      ],
      "execution_count": null,
      "outputs": [
        {
          "output_type": "stream",
          "text": [
            "/usr/local/lib/python3.6/dist-packages/sklearn/metrics/_classification.py:664: FutureWarning: jaccard_similarity_score has been deprecated and replaced with jaccard_score. It will be removed in version 0.23. This implementation has surprising behavior for binary and multiclass classification tasks.\n",
            "  FutureWarning)\n"
          ],
          "name": "stderr"
        },
        {
          "output_type": "execute_result",
          "data": {
            "text/plain": [
              "0.7922077922077922"
            ]
          },
          "metadata": {
            "tags": []
          },
          "execution_count": 83
        }
      ]
    },
    {
      "cell_type": "code",
      "metadata": {
        "id": "_Oy1fIBXv_dz",
        "outputId": "9ab17e12-f8a6-403e-da40-0a09403139c2",
        "colab": {
          "base_uri": "https://localhost:8080/",
          "height": 170
        }
      },
      "source": [
        "print(classification_report(y_test,yhat))"
      ],
      "execution_count": null,
      "outputs": [
        {
          "output_type": "stream",
          "text": [
            "              precision    recall  f1-score   support\n",
            "\n",
            "           0       0.82      0.88      0.85       103\n",
            "           1       0.72      0.61      0.66        51\n",
            "\n",
            "    accuracy                           0.79       154\n",
            "   macro avg       0.77      0.75      0.76       154\n",
            "weighted avg       0.79      0.79      0.79       154\n",
            "\n"
          ],
          "name": "stdout"
        }
      ]
    },
    {
      "cell_type": "code",
      "metadata": {
        "id": "VhSRaBOxm2zv",
        "outputId": "3624c18e-ba41-428e-cac8-31a1a8a5dbbb",
        "colab": {
          "base_uri": "https://localhost:8080/",
          "height": 51
        }
      },
      "source": [
        "confusion_matrix(y_test, yhat)"
      ],
      "execution_count": null,
      "outputs": [
        {
          "output_type": "execute_result",
          "data": {
            "text/plain": [
              "array([[91, 12],\n",
              "       [20, 31]])"
            ]
          },
          "metadata": {
            "tags": []
          },
          "execution_count": 85
        }
      ]
    },
    {
      "cell_type": "code",
      "metadata": {
        "id": "NQ6yWjsVm6UN",
        "outputId": "c2f953c9-d30b-49b5-89ba-076def38677d",
        "colab": {
          "base_uri": "https://localhost:8080/",
          "height": 1000
        }
      },
      "source": [
        "yhatprob = lr.predict_proba(X_test)\n",
        "yhatprob"
      ],
      "execution_count": null,
      "outputs": [
        {
          "output_type": "execute_result",
          "data": {
            "text/plain": [
              "array([[0.81015601, 0.18984399],\n",
              "       [0.51711533, 0.48288467],\n",
              "       [0.60242198, 0.39757802],\n",
              "       [0.68760187, 0.31239813],\n",
              "       [0.81410202, 0.18589798],\n",
              "       [0.63185149, 0.36814851],\n",
              "       [0.63605903, 0.36394097],\n",
              "       [0.71782722, 0.28217278],\n",
              "       [0.62366824, 0.37633176],\n",
              "       [0.77231534, 0.22768466],\n",
              "       [0.78608559, 0.21391441],\n",
              "       [0.2931248 , 0.7068752 ],\n",
              "       [0.48083879, 0.51916121],\n",
              "       [0.27069621, 0.72930379],\n",
              "       [0.8095101 , 0.1904899 ],\n",
              "       [0.70876979, 0.29123021],\n",
              "       [0.38977865, 0.61022135],\n",
              "       [0.54879719, 0.45120281],\n",
              "       [0.70683269, 0.29316731],\n",
              "       [0.28606252, 0.71393748],\n",
              "       [0.82759257, 0.17240743],\n",
              "       [0.69022184, 0.30977816],\n",
              "       [0.75130235, 0.24869765],\n",
              "       [0.65459969, 0.34540031],\n",
              "       [0.56600069, 0.43399931],\n",
              "       [0.58234169, 0.41765831],\n",
              "       [0.66087731, 0.33912269],\n",
              "       [0.5776097 , 0.4223903 ],\n",
              "       [0.60465941, 0.39534059],\n",
              "       [0.67119796, 0.32880204],\n",
              "       [0.43352607, 0.56647393],\n",
              "       [0.36245286, 0.63754714],\n",
              "       [0.74499423, 0.25500577],\n",
              "       [0.38483396, 0.61516604],\n",
              "       [0.65544105, 0.34455895],\n",
              "       [0.78262892, 0.21737108],\n",
              "       [0.57990534, 0.42009466],\n",
              "       [0.37684493, 0.62315507],\n",
              "       [0.82275107, 0.17724893],\n",
              "       [0.52835791, 0.47164209],\n",
              "       [0.56251376, 0.43748624],\n",
              "       [0.38283084, 0.61716916],\n",
              "       [0.47683659, 0.52316341],\n",
              "       [0.81060175, 0.18939825],\n",
              "       [0.78236195, 0.21763805],\n",
              "       [0.79400841, 0.20599159],\n",
              "       [0.5053273 , 0.4946727 ],\n",
              "       [0.7159866 , 0.2840134 ],\n",
              "       [0.35968493, 0.64031507],\n",
              "       [0.7093538 , 0.2906462 ],\n",
              "       [0.73758034, 0.26241966],\n",
              "       [0.6233707 , 0.3766293 ],\n",
              "       [0.30301516, 0.69698484],\n",
              "       [0.80017507, 0.19982493],\n",
              "       [0.69093556, 0.30906444],\n",
              "       [0.86038134, 0.13961866],\n",
              "       [0.81228972, 0.18771028],\n",
              "       [0.55636856, 0.44363144],\n",
              "       [0.39875297, 0.60124703],\n",
              "       [0.63665091, 0.36334909],\n",
              "       [0.46951311, 0.53048689],\n",
              "       [0.47296596, 0.52703404],\n",
              "       [0.25977902, 0.74022098],\n",
              "       [0.55313734, 0.44686266],\n",
              "       [0.63181554, 0.36818446],\n",
              "       [0.74351716, 0.25648284],\n",
              "       [0.4522682 , 0.5477318 ],\n",
              "       [0.10350384, 0.89649616],\n",
              "       [0.70655747, 0.29344253],\n",
              "       [0.50475025, 0.49524975],\n",
              "       [0.73943489, 0.26056511],\n",
              "       [0.42476102, 0.57523898],\n",
              "       [0.43937437, 0.56062563],\n",
              "       [0.75905087, 0.24094913],\n",
              "       [0.53732874, 0.46267126],\n",
              "       [0.56959651, 0.43040349],\n",
              "       [0.37651925, 0.62348075],\n",
              "       [0.3773123 , 0.6226877 ],\n",
              "       [0.56611315, 0.43388685],\n",
              "       [0.82926808, 0.17073192],\n",
              "       [0.75398243, 0.24601757],\n",
              "       [0.24858664, 0.75141336],\n",
              "       [0.56856183, 0.43143817],\n",
              "       [0.67978878, 0.32021122],\n",
              "       [0.7293351 , 0.2706649 ],\n",
              "       [0.63979111, 0.36020889],\n",
              "       [0.36828142, 0.63171858],\n",
              "       [0.50873523, 0.49126477],\n",
              "       [0.34429019, 0.65570981],\n",
              "       [0.33838248, 0.66161752],\n",
              "       [0.51586775, 0.48413225],\n",
              "       [0.72658365, 0.27341635],\n",
              "       [0.8353176 , 0.1646824 ],\n",
              "       [0.35142123, 0.64857877],\n",
              "       [0.66166153, 0.33833847],\n",
              "       [0.79584866, 0.20415134],\n",
              "       [0.81215695, 0.18784305],\n",
              "       [0.24869797, 0.75130203],\n",
              "       [0.45027144, 0.54972856],\n",
              "       [0.83208961, 0.16791039],\n",
              "       [0.74671144, 0.25328856],\n",
              "       [0.65530438, 0.34469562],\n",
              "       [0.72690303, 0.27309697],\n",
              "       [0.84596387, 0.15403613],\n",
              "       [0.67919836, 0.32080164],\n",
              "       [0.91277401, 0.08722599],\n",
              "       [0.72103831, 0.27896169],\n",
              "       [0.39369758, 0.60630242],\n",
              "       [0.53829503, 0.46170497],\n",
              "       [0.181201  , 0.818799  ],\n",
              "       [0.82001927, 0.17998073],\n",
              "       [0.79878763, 0.20121237],\n",
              "       [0.34623406, 0.65376594],\n",
              "       [0.69686979, 0.30313021],\n",
              "       [0.48409708, 0.51590292],\n",
              "       [0.34453383, 0.65546617],\n",
              "       [0.52336191, 0.47663809],\n",
              "       [0.77319231, 0.22680769],\n",
              "       [0.38818067, 0.61181933],\n",
              "       [0.7357151 , 0.2642849 ],\n",
              "       [0.5833994 , 0.4166006 ],\n",
              "       [0.70172998, 0.29827002],\n",
              "       [0.45635686, 0.54364314],\n",
              "       [0.88401125, 0.11598875],\n",
              "       [0.80056412, 0.19943588],\n",
              "       [0.64051916, 0.35948084],\n",
              "       [0.5733884 , 0.4266116 ],\n",
              "       [0.56271238, 0.43728762],\n",
              "       [0.60481225, 0.39518775],\n",
              "       [0.58632959, 0.41367041],\n",
              "       [0.77836411, 0.22163589],\n",
              "       [0.56547784, 0.43452216],\n",
              "       [0.57605033, 0.42394967],\n",
              "       [0.75726262, 0.24273738],\n",
              "       [0.6867487 , 0.3132513 ],\n",
              "       [0.79280916, 0.20719084],\n",
              "       [0.59205993, 0.40794007],\n",
              "       [0.3783672 , 0.6216328 ],\n",
              "       [0.58880869, 0.41119131],\n",
              "       [0.67157772, 0.32842228],\n",
              "       [0.72120131, 0.27879869],\n",
              "       [0.72401776, 0.27598224],\n",
              "       [0.64276108, 0.35723892],\n",
              "       [0.59329338, 0.40670662],\n",
              "       [0.42152725, 0.57847275],\n",
              "       [0.87195578, 0.12804422],\n",
              "       [0.74833915, 0.25166085],\n",
              "       [0.18876719, 0.81123281],\n",
              "       [0.58937185, 0.41062815],\n",
              "       [0.32939021, 0.67060979],\n",
              "       [0.27354643, 0.72645357],\n",
              "       [0.71744772, 0.28255228],\n",
              "       [0.62043808, 0.37956192],\n",
              "       [0.32147645, 0.67852355]])"
            ]
          },
          "metadata": {
            "tags": []
          },
          "execution_count": 86
        }
      ]
    },
    {
      "cell_type": "code",
      "metadata": {
        "id": "w6d5QR_AnlE5",
        "outputId": "1b2efebd-239f-4d5a-ab62-83bec96f4677",
        "colab": {
          "base_uri": "https://localhost:8080/",
          "height": 34
        }
      },
      "source": [
        "log_loss(y_test,yhatprob)"
      ],
      "execution_count": null,
      "outputs": [
        {
          "output_type": "execute_result",
          "data": {
            "text/plain": [
              "0.5062754762083385"
            ]
          },
          "metadata": {
            "tags": []
          },
          "execution_count": 87
        }
      ]
    },
    {
      "cell_type": "code",
      "metadata": {
        "id": "1CgJXsxrnrII"
      },
      "source": [
        ""
      ],
      "execution_count": null,
      "outputs": []
    }
  ]
}