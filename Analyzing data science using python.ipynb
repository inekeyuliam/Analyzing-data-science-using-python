{
    "cells": [
        {
            "cell_type": "markdown",
            "metadata": {},
            "source": "<a><img src=\"https://ibm.box.com/shared/static/ugcqz6ohbvff804xp84y4kqnvvk3bq1g.png\" width=\"200\" align=\"center\"></a>"
        },
        {
            "cell_type": "markdown",
            "metadata": {},
            "source": "<h1>Analyzing Where Do People Drink?  </h1>\n<h2>Description</h2>"
        },
        {
            "cell_type": "markdown",
            "metadata": {},
            "source": "This Dataset is from the story <a href=https://fivethirtyeight.com/features/dear-mona-followup-where-do-people-drink-the-most-beer-wine-and-spirits/>  Dear Mona Followup: Where Do People Drink The Most Beer, Wine And Spirits? </a>  The dataset contains Average serving sizes per person such as average wine, spirit, beer servings. As well as several other metrics. You will be asked to analyze the data and predict the total liters served given the servings. See how to share your lab at the end."
        },
        {
            "cell_type": "markdown",
            "metadata": {},
            "source": "You will need the following libraries:"
        },
        {
            "cell_type": "code",
            "execution_count": 11,
            "metadata": {},
            "outputs": [],
            "source": "%%capture\n! pip install seaborn\nimport seaborn as sns\nimport pandas as pd\nimport numpy as np\nimport matplotlib.pyplot as plt\nimport matplotlib as mpl\n\n%matplotlib inline\nfrom matplotlib import pyplot\n"
        },
        {
            "cell_type": "markdown",
            "metadata": {},
            "source": "<b>1.0 Importing the Data</b>"
        },
        {
            "cell_type": "markdown",
            "metadata": {},
            "source": "Load the csv:"
        },
        {
            "cell_type": "code",
            "execution_count": 12,
            "metadata": {},
            "outputs": [],
            "source": "df= pd.read_csv('https://s3-api.us-geo.objectstorage.softlayer.net/cf-courses-data/CognitiveClass/DA0101EN/edx/project/drinks.csv')"
        },
        {
            "cell_type": "markdown",
            "metadata": {},
            "source": "We use the method  <code>head()</code>  to display the first 5 columns of the dataframe:"
        },
        {
            "cell_type": "code",
            "execution_count": 13,
            "metadata": {},
            "outputs": [
                {
                    "data": {
                        "text/html": "<div>\n<style scoped>\n    .dataframe tbody tr th:only-of-type {\n        vertical-align: middle;\n    }\n\n    .dataframe tbody tr th {\n        vertical-align: top;\n    }\n\n    .dataframe thead th {\n        text-align: right;\n    }\n</style>\n<table border=\"1\" class=\"dataframe\">\n  <thead>\n    <tr style=\"text-align: right;\">\n      <th></th>\n      <th>country</th>\n      <th>beer_servings</th>\n      <th>spirit_servings</th>\n      <th>wine_servings</th>\n      <th>total_litres_of_pure_alcohol</th>\n      <th>continent</th>\n    </tr>\n  </thead>\n  <tbody>\n    <tr>\n      <th>0</th>\n      <td>Afghanistan</td>\n      <td>0</td>\n      <td>0</td>\n      <td>0</td>\n      <td>0.0</td>\n      <td>Asia</td>\n    </tr>\n    <tr>\n      <th>1</th>\n      <td>Albania</td>\n      <td>89</td>\n      <td>132</td>\n      <td>54</td>\n      <td>4.9</td>\n      <td>Europe</td>\n    </tr>\n    <tr>\n      <th>2</th>\n      <td>Algeria</td>\n      <td>25</td>\n      <td>0</td>\n      <td>14</td>\n      <td>0.7</td>\n      <td>Africa</td>\n    </tr>\n    <tr>\n      <th>3</th>\n      <td>Andorra</td>\n      <td>245</td>\n      <td>138</td>\n      <td>312</td>\n      <td>12.4</td>\n      <td>Europe</td>\n    </tr>\n    <tr>\n      <th>4</th>\n      <td>Angola</td>\n      <td>217</td>\n      <td>57</td>\n      <td>45</td>\n      <td>5.9</td>\n      <td>Africa</td>\n    </tr>\n  </tbody>\n</table>\n</div>",
                        "text/plain": "       country  beer_servings  spirit_servings  wine_servings  \\\n0  Afghanistan              0                0              0   \n1      Albania             89              132             54   \n2      Algeria             25                0             14   \n3      Andorra            245              138            312   \n4       Angola            217               57             45   \n\n   total_litres_of_pure_alcohol continent  \n0                           0.0      Asia  \n1                           4.9    Europe  \n2                           0.7    Africa  \n3                          12.4    Europe  \n4                           5.9    Africa  "
                    },
                    "execution_count": 13,
                    "metadata": {},
                    "output_type": "execute_result"
                }
            ],
            "source": "df.head()"
        },
        {
            "cell_type": "markdown",
            "metadata": {},
            "source": "<b>Question 1</b>:  Display the data types of each column using the attribute\u202fdtype."
        },
        {
            "cell_type": "code",
            "execution_count": 14,
            "metadata": {},
            "outputs": [
                {
                    "data": {
                        "text/plain": "country                          object\nbeer_servings                     int64\nspirit_servings                   int64\nwine_servings                     int64\ntotal_litres_of_pure_alcohol    float64\ncontinent                        object\ndtype: object"
                    },
                    "execution_count": 14,
                    "metadata": {},
                    "output_type": "execute_result"
                }
            ],
            "source": "df.dtypes"
        },
        {
            "cell_type": "markdown",
            "metadata": {},
            "source": "<b>Question 2</b> use the method\u202f<code>groupby</code> to get the number of wine servings per continent:"
        },
        {
            "cell_type": "code",
            "execution_count": 15,
            "metadata": {},
            "outputs": [
                {
                    "data": {
                        "text/html": "<div>\n<style scoped>\n    .dataframe tbody tr th:only-of-type {\n        vertical-align: middle;\n    }\n\n    .dataframe tbody tr th {\n        vertical-align: top;\n    }\n\n    .dataframe thead th {\n        text-align: right;\n    }\n</style>\n<table border=\"1\" class=\"dataframe\">\n  <thead>\n    <tr style=\"text-align: right;\">\n      <th></th>\n      <th>wine_servings</th>\n    </tr>\n    <tr>\n      <th>continent</th>\n      <th></th>\n    </tr>\n  </thead>\n  <tbody>\n    <tr>\n      <th>Africa</th>\n      <td>862</td>\n    </tr>\n    <tr>\n      <th>Asia</th>\n      <td>399</td>\n    </tr>\n    <tr>\n      <th>Europe</th>\n      <td>6400</td>\n    </tr>\n    <tr>\n      <th>North America</th>\n      <td>564</td>\n    </tr>\n    <tr>\n      <th>Oceania</th>\n      <td>570</td>\n    </tr>\n    <tr>\n      <th>South America</th>\n      <td>749</td>\n    </tr>\n  </tbody>\n</table>\n</div>",
                        "text/plain": "               wine_servings\ncontinent                   \nAfrica                   862\nAsia                     399\nEurope                  6400\nNorth America            564\nOceania                  570\nSouth America            749"
                    },
                    "execution_count": 15,
                    "metadata": {},
                    "output_type": "execute_result"
                }
            ],
            "source": "df_group=df[['wine_servings','continent']]\ndf_group=df_group.groupby(['continent'],as_index=True).sum()\ndf_group"
        },
        {
            "cell_type": "markdown",
            "metadata": {},
            "source": "<b>Question 3:</b> Perform a statistical summary and analysis of beer servings for each continent:"
        },
        {
            "cell_type": "code",
            "execution_count": 16,
            "metadata": {},
            "outputs": [
                {
                    "data": {
                        "text/html": "<div>\n<style scoped>\n    .dataframe tbody tr th:only-of-type {\n        vertical-align: middle;\n    }\n\n    .dataframe tbody tr th {\n        vertical-align: top;\n    }\n\n    .dataframe thead th {\n        text-align: right;\n    }\n</style>\n<table border=\"1\" class=\"dataframe\">\n  <thead>\n    <tr style=\"text-align: right;\">\n      <th></th>\n      <th>beer_servings</th>\n    </tr>\n    <tr>\n      <th>continent</th>\n      <th></th>\n    </tr>\n  </thead>\n  <tbody>\n    <tr>\n      <th>Africa</th>\n      <td>3258</td>\n    </tr>\n    <tr>\n      <th>Asia</th>\n      <td>1630</td>\n    </tr>\n    <tr>\n      <th>Europe</th>\n      <td>8720</td>\n    </tr>\n    <tr>\n      <th>North America</th>\n      <td>3345</td>\n    </tr>\n    <tr>\n      <th>Oceania</th>\n      <td>1435</td>\n    </tr>\n    <tr>\n      <th>South America</th>\n      <td>2101</td>\n    </tr>\n  </tbody>\n</table>\n</div>",
                        "text/plain": "               beer_servings\ncontinent                   \nAfrica                  3258\nAsia                    1630\nEurope                  8720\nNorth America           3345\nOceania                 1435\nSouth America           2101"
                    },
                    "execution_count": 16,
                    "metadata": {},
                    "output_type": "execute_result"
                }
            ],
            "source": "df_group2=df[['beer_servings','continent']]\ndf_group2=df_group2.groupby(['continent'],as_index=True).sum()\ndf_group2\n\n#group_names=['Africa', 'Asia', 'Europe', 'North America', 'Oceania', 'South America']\n#pyplot.bar(group_names,df_group2.groupby(['continent'],as_index=True).sum())\n#plt.pyplot.xlabel('continent')\n#plt.pyplot.ylabel('beer_servings')\n#plt.pyplot.title('analysis')"
        },
        {
            "cell_type": "markdown",
            "metadata": {},
            "source": "<b>Question 4:</b> Use the function\u202fboxplot\u202fin the seaborn library to produce a plot that can be used to show the number of beer servings on each continent."
        },
        {
            "cell_type": "code",
            "execution_count": 17,
            "metadata": {},
            "outputs": [
                {
                    "data": {
                        "text/plain": "<matplotlib.axes._subplots.AxesSubplot at 0x7ff2fa952780>"
                    },
                    "execution_count": 17,
                    "metadata": {},
                    "output_type": "execute_result"
                },
                {
                    "data": {
                        "image/png": "[encoded data removed]",
                        "text/plain": "<Figure size 432x288 with 1 Axes>"
                    },
                    "metadata": {
                        "needs_background": "light"
                    },
                    "output_type": "display_data"
                }
            ],
            "source": "sns.boxplot(y='beer_servings',x='continent',data=df)"
        },
        {
            "cell_type": "markdown",
            "metadata": {},
            "source": "<b>Question 5</b>: Use the function\u202f<code> regplot</code> in the seaborn library to determine if the number of wine servings is\nnegatively or positively correlated with the number of beer servings."
        },
        {
            "cell_type": "code",
            "execution_count": 18,
            "metadata": {},
            "outputs": [
                {
                    "data": {
                        "text/plain": "<matplotlib.axes._subplots.AxesSubplot at 0x7ff2fa9973c8>"
                    },
                    "execution_count": 18,
                    "metadata": {},
                    "output_type": "execute_result"
                },
                {
                    "data": {
                        "image/png": "[encoded data removed]",
                        "text/plain": "<Figure size 432x288 with 1 Axes>"
                    },
                    "metadata": {
                        "needs_background": "light"
                    },
                    "output_type": "display_data"
                }
            ],
            "source": "sns.regplot(x='beer_servings',y='wine_servings', data=df)"
        },
        {
            "cell_type": "markdown",
            "metadata": {},
            "source": "<b> Question 6:</b> Fit a linear regression model to predict the <code>'total_litres_of_pure_alcohol'</code> using the number of <code>'wine_servings'</code> then calculate $R^{2}$:\n"
        },
        {
            "cell_type": "code",
            "execution_count": 19,
            "metadata": {},
            "outputs": [
                {
                    "data": {
                        "text/plain": "array([[ 3.15407943],\n       [ 4.86088833],\n       [ 3.59658545],\n       [13.01564196],\n       [ 4.57642018]])"
                    },
                    "execution_count": 19,
                    "metadata": {},
                    "output_type": "execute_result"
                }
            ],
            "source": "from sklearn.linear_model import LinearRegression\nlr = LinearRegression()\nX=df[['wine_servings']] \nY=df[['total_litres_of_pure_alcohol']] #we want to predict\nlr.fit(X,Y)\n#lr\nYhat = lr.predict(X)\nYhat[0:5]"
        },
        {
            "cell_type": "markdown",
            "metadata": {},
            "source": "### Question 7\nUse the list of features to predict the <code>'total_litres_of_pure_alcohol'</code>, split the data into training and testing and determine the $R^2$ on the test data, using the provided code:"
        },
        {
            "cell_type": "code",
            "execution_count": 33,
            "metadata": {
                "scrolled": true
            },
            "outputs": [
                {
                    "data": {
                        "text/plain": "0.44059889836228316"
                    },
                    "execution_count": 33,
                    "metadata": {},
                    "output_type": "execute_result"
                }
            ],
            "source": "lr2 = LinearRegression()\nZ = df[['wine_servings','beer_servings','spirit_servings']]\nlr2.fit(Z, df['total_litres_of_pure_alcohol'])\nlr2.coef_\nlr2.intercept_\n\nfrom sklearn.model_selection import train_test_split\ny_data = df['total_litres_of_pure_alcohol']\nx_data = df[['wine_servings','beer_servings','spirit_servings']]\nx_train, x_test, y_train, y_test = train_test_split(x_data, y_data, test_size=0.15, random_state=1)\n\n#print(\"number of test samples :\", x_test.shape[0])\n#print(\"number of training samples:\",x_train.shape[0])\nlr2.fit(x_train[['wine_servings']], y_train) #fit model using feature wine servings\nlr2.score(x_test[['wine_servings']], y_test) #calculate R^2 on the test data\nlr2.score(x_train[['wine_servings']], y_train) #R^2 is much smaller using the test data"
        },
        {
            "cell_type": "markdown",
            "metadata": {},
            "source": "<b>Question 8 :</b> Create a pipeline object that scales the data, performs a polynomial transform and fits a linear regression model. Fit the object using the training data in the question above, then calculate the R^2 using. the test data. Take a screenshot of your code and the $R^{2}$. There are some hints in the notebook:"
        },
        {
            "cell_type": "markdown",
            "metadata": {},
            "source": "<code>'scale'</code>\n\n<code>'polynomial'</code>\n\n<code>'model'</code>\n\nThe second element in the tuple contains the model constructor\n\n<code>StandardScaler()</code>\n\n<code>PolynomialFeatures(include_bias=False)</code>\n\n<code>LinearRegression()</code>"
        },
        {
            "cell_type": "code",
            "execution_count": 38,
            "metadata": {},
            "outputs": [
                {
                    "name": "stderr",
                    "output_type": "stream",
                    "text": "/opt/conda/envs/Python36/lib/python3.6/site-packages/sklearn/preprocessing/data.py:645: DataConversionWarning: Data with input dtype int64 were all converted to float64 by StandardScaler.\n  return self.partial_fit(X, y)\n/opt/conda/envs/Python36/lib/python3.6/site-packages/sklearn/base.py:467: DataConversionWarning: Data with input dtype int64 were all converted to float64 by StandardScaler.\n  return self.fit(X, y, **fit_params).transform(X)\n/opt/conda/envs/Python36/lib/python3.6/site-packages/sklearn/pipeline.py:331: DataConversionWarning: Data with input dtype int64 were all converted to float64 by StandardScaler.\n  Xt = transform.transform(Xt)\n"
                },
                {
                    "data": {
                        "text/plain": "array([ 0.66771682,  5.02238617,  1.58272774, 12.65988765])"
                    },
                    "execution_count": 38,
                    "metadata": {},
                    "output_type": "execute_result"
                }
            ],
            "source": "from sklearn.pipeline import Pipeline\nfrom sklearn.preprocessing import StandardScaler,PolynomialFeatures\nInput = [('scale', StandardScaler()),('polynomial', PolynomialFeatures(include_bias=False)), ('model', LinearRegression())]\n\npipe = Pipeline(Input)\npipe.fit(Z,y_data)\nypipe=pipe.predict(Z)\nypipe[0:4]"
        },
        {
            "cell_type": "markdown",
            "metadata": {},
            "source": "<b>Question 9</b>: Create and fit a Ridge regression object using the training data, setting the regularization parameter to 0.1 and calculate the $R^{2}$ using the test data. Take a screenshot of your code and the $R^{2}$"
        },
        {
            "cell_type": "code",
            "execution_count": 43,
            "metadata": {},
            "outputs": [
                {
                    "data": {
                        "text/plain": "Ridge(alpha=0.1, copy_X=True, fit_intercept=True, max_iter=None,\n   normalize=False, random_state=None, solver='auto', tol=0.001)"
                    },
                    "execution_count": 43,
                    "metadata": {},
                    "output_type": "execute_result"
                }
            ],
            "source": "from sklearn.linear_model import Ridge\nRidgeModel = Ridge(alpha=0.1)\n\npr = PolynomialFeatures(degree=2)\nx_train_pr = pr.fit_transform(x_train[['wine_servings','beer_servings','spirit_servings']])\nx_test_pr = pr.fit_transform(x_test[['wine_servings','beer_servings','spirit_servings']])\nRidgeModel.fit(x_train_pr, y_train)\n\n"
        },
        {
            "cell_type": "markdown",
            "metadata": {},
            "source": "<b>Question 10 </b>: Perform a 2nd order polynomial transform on both the training data and testing data.  Create and fit a Ridge regression object using the training data, setting the regularization parameter to 0.1. Calculate the $R^{2}$ utilizing the test data provided. Take a screen-shot of your code and the $R^{2}$. "
        },
        {
            "cell_type": "code",
            "execution_count": 44,
            "metadata": {},
            "outputs": [
                {
                    "data": {
                        "text/plain": "0.6569256303311809"
                    },
                    "execution_count": 44,
                    "metadata": {},
                    "output_type": "execute_result"
                }
            ],
            "source": "RidgeModel.score(x_test_pr, y_test)"
        },
        {
            "cell_type": "markdown",
            "metadata": {},
            "source": "<a href=\"https://dataplatform.cloud.ibm.com/docs/content/wsj/analyze-data/share-notebooks.html\\\" > CLICK HERE </a>  to see how to share your notebook"
        },
        {
            "cell_type": "markdown",
            "metadata": {},
            "source": "<b>Sources</b>"
        },
        {
            "cell_type": "markdown",
            "metadata": {},
            "source": "<a href=https://fivethirtyeight.com/features/dear-mona-followup-where-do-people-drink-the-most-beer-wine-and-spirits/> Dear Mona Followup: Where Do People Drink The Most Beer, Wine And Spirits?</a> by By Mona Chalabi , you can download the dataset <a href=https://github.com/fivethirtyeight/data/tree/master/alcohol-consumption>here</a>."
        }
    ],
    "metadata": {
        "kernelspec": {
            "display_name": "Python 3.6",
            "language": "python",
            "name": "python3"
        },
        "language_info": {
            "codemirror_mode": {
                "name": "ipython",
                "version": 3
            },
            "file_extension": ".py",
            "mimetype": "text/x-python",
            "name": "python",
            "nbconvert_exporter": "python",
            "pygments_lexer": "ipython3",
            "version": "3.6.9"
        }
    },
    "nbformat": 4,
    "nbformat_minor": 2
}