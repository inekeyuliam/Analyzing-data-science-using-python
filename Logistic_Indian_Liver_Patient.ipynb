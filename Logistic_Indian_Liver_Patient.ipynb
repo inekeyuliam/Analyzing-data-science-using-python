{
  "nbformat": 4,
  "nbformat_minor": 0,
  "metadata": {
    "colab": {
      "name": "Logistic_Indian Liver Patient.ipynb",
      "provenance": [],
      "authorship_tag": "ABX9TyNaNbzM9QzdqPmIKekUfG/d",
      "include_colab_link": true
    },
    "kernelspec": {
      "name": "python3",
      "display_name": "Python 3"
    }
  },
  "cells": [
    {
      "cell_type": "markdown",
      "metadata": {
        "id": "view-in-github",
        "colab_type": "text"
      },
      "source": [
        "<a href=\"https://colab.research.google.com/github/inekeyuliam/data-science-classification-python/blob/master/Logistic_Indian_Liver_Patient.ipynb\" target=\"_parent\"><img src=\"https://colab.research.google.com/assets/colab-badge.svg\" alt=\"Open In Colab\"/></a>"
      ]
    },
    {
      "cell_type": "code",
      "metadata": {
        "id": "Cr-NpVUMLJU2"
      },
      "source": [
        "import pandas as pd\n",
        "import pylab as pl\n",
        "import numpy as np\n",
        "import scipy.optimize as opt\n",
        "from sklearn import preprocessing\n",
        "from sklearn.model_selection import train_test_split\n",
        "%matplotlib inline\n",
        "import matplotlib.pyplot as plt"
      ],
      "execution_count": null,
      "outputs": []
    },
    {
      "cell_type": "code",
      "metadata": {
        "id": "kPHCxAMrLKtf",
        "outputId": "db88dd36-7c7b-4149-ce2d-be619d8ba83a",
        "colab": {
          "base_uri": "https://localhost:8080/",
          "height": 224
        }
      },
      "source": [
        "df = pd.read_csv('indian_liver_patient.csv')\n",
        "df.head()"
      ],
      "execution_count": null,
      "outputs": [
        {
          "output_type": "execute_result",
          "data": {
            "text/html": [
              "<div>\n",
              "<style scoped>\n",
              "    .dataframe tbody tr th:only-of-type {\n",
              "        vertical-align: middle;\n",
              "    }\n",
              "\n",
              "    .dataframe tbody tr th {\n",
              "        vertical-align: top;\n",
              "    }\n",
              "\n",
              "    .dataframe thead th {\n",
              "        text-align: right;\n",
              "    }\n",
              "</style>\n",
              "<table border=\"1\" class=\"dataframe\">\n",
              "  <thead>\n",
              "    <tr style=\"text-align: right;\">\n",
              "      <th></th>\n",
              "      <th>Age</th>\n",
              "      <th>Gender</th>\n",
              "      <th>Total_Bilirubin</th>\n",
              "      <th>Direct_Bilirubin</th>\n",
              "      <th>Alkaline_Phosphotase</th>\n",
              "      <th>Alamine_Aminotransferase</th>\n",
              "      <th>Aspartate_Aminotransferase</th>\n",
              "      <th>Total_Protiens</th>\n",
              "      <th>Albumin</th>\n",
              "      <th>Albumin_and_Globulin_Ratio</th>\n",
              "      <th>Dataset</th>\n",
              "    </tr>\n",
              "  </thead>\n",
              "  <tbody>\n",
              "    <tr>\n",
              "      <th>0</th>\n",
              "      <td>65</td>\n",
              "      <td>Female</td>\n",
              "      <td>0.7</td>\n",
              "      <td>0.1</td>\n",
              "      <td>187</td>\n",
              "      <td>16</td>\n",
              "      <td>18</td>\n",
              "      <td>6.8</td>\n",
              "      <td>3.3</td>\n",
              "      <td>0.90</td>\n",
              "      <td>1</td>\n",
              "    </tr>\n",
              "    <tr>\n",
              "      <th>1</th>\n",
              "      <td>62</td>\n",
              "      <td>Male</td>\n",
              "      <td>10.9</td>\n",
              "      <td>5.5</td>\n",
              "      <td>699</td>\n",
              "      <td>64</td>\n",
              "      <td>100</td>\n",
              "      <td>7.5</td>\n",
              "      <td>3.2</td>\n",
              "      <td>0.74</td>\n",
              "      <td>1</td>\n",
              "    </tr>\n",
              "    <tr>\n",
              "      <th>2</th>\n",
              "      <td>62</td>\n",
              "      <td>Male</td>\n",
              "      <td>7.3</td>\n",
              "      <td>4.1</td>\n",
              "      <td>490</td>\n",
              "      <td>60</td>\n",
              "      <td>68</td>\n",
              "      <td>7.0</td>\n",
              "      <td>3.3</td>\n",
              "      <td>0.89</td>\n",
              "      <td>1</td>\n",
              "    </tr>\n",
              "    <tr>\n",
              "      <th>3</th>\n",
              "      <td>58</td>\n",
              "      <td>Male</td>\n",
              "      <td>1.0</td>\n",
              "      <td>0.4</td>\n",
              "      <td>182</td>\n",
              "      <td>14</td>\n",
              "      <td>20</td>\n",
              "      <td>6.8</td>\n",
              "      <td>3.4</td>\n",
              "      <td>1.00</td>\n",
              "      <td>1</td>\n",
              "    </tr>\n",
              "    <tr>\n",
              "      <th>4</th>\n",
              "      <td>72</td>\n",
              "      <td>Male</td>\n",
              "      <td>3.9</td>\n",
              "      <td>2.0</td>\n",
              "      <td>195</td>\n",
              "      <td>27</td>\n",
              "      <td>59</td>\n",
              "      <td>7.3</td>\n",
              "      <td>2.4</td>\n",
              "      <td>0.40</td>\n",
              "      <td>1</td>\n",
              "    </tr>\n",
              "  </tbody>\n",
              "</table>\n",
              "</div>"
            ],
            "text/plain": [
              "   Age  Gender  Total_Bilirubin  ...  Albumin  Albumin_and_Globulin_Ratio  Dataset\n",
              "0   65  Female              0.7  ...      3.3                        0.90        1\n",
              "1   62    Male             10.9  ...      3.2                        0.74        1\n",
              "2   62    Male              7.3  ...      3.3                        0.89        1\n",
              "3   58    Male              1.0  ...      3.4                        1.00        1\n",
              "4   72    Male              3.9  ...      2.4                        0.40        1\n",
              "\n",
              "[5 rows x 11 columns]"
            ]
          },
          "metadata": {
            "tags": []
          },
          "execution_count": 2
        }
      ]
    },
    {
      "cell_type": "code",
      "metadata": {
        "id": "WpvzoGD-MNOa",
        "outputId": "e8313506-ad73-4679-ed1e-19e9ebaee239",
        "colab": {
          "base_uri": "https://localhost:8080/",
          "height": 782
        }
      },
      "source": [
        "df.dtypes\n",
        "missing_data = df.isnull()\n",
        "missing_data.head(5)\n",
        "for column in missing_data.columns.values.tolist():\n",
        "    print(column)\n",
        "    print (missing_data[column].value_counts())\n",
        "    print(\"\")  "
      ],
      "execution_count": null,
      "outputs": [
        {
          "output_type": "stream",
          "text": [
            "Age\n",
            "False    583\n",
            "Name: Age, dtype: int64\n",
            "\n",
            "Gender\n",
            "False    583\n",
            "Name: Gender, dtype: int64\n",
            "\n",
            "Total_Bilirubin\n",
            "False    583\n",
            "Name: Total_Bilirubin, dtype: int64\n",
            "\n",
            "Direct_Bilirubin\n",
            "False    583\n",
            "Name: Direct_Bilirubin, dtype: int64\n",
            "\n",
            "Alkaline_Phosphotase\n",
            "False    583\n",
            "Name: Alkaline_Phosphotase, dtype: int64\n",
            "\n",
            "Alamine_Aminotransferase\n",
            "False    583\n",
            "Name: Alamine_Aminotransferase, dtype: int64\n",
            "\n",
            "Aspartate_Aminotransferase\n",
            "False    583\n",
            "Name: Aspartate_Aminotransferase, dtype: int64\n",
            "\n",
            "Total_Protiens\n",
            "False    583\n",
            "Name: Total_Protiens, dtype: int64\n",
            "\n",
            "Albumin\n",
            "False    583\n",
            "Name: Albumin, dtype: int64\n",
            "\n",
            "Albumin_and_Globulin_Ratio\n",
            "False    579\n",
            "True       4\n",
            "Name: Albumin_and_Globulin_Ratio, dtype: int64\n",
            "\n",
            "Dataset\n",
            "False    583\n",
            "Name: Dataset, dtype: int64\n",
            "\n"
          ],
          "name": "stdout"
        }
      ]
    },
    {
      "cell_type": "code",
      "metadata": {
        "id": "SKvMqoKPMOMe"
      },
      "source": [
        "avg_norm_loss = df[\"Albumin_and_Globulin_Ratio\"].astype(\"float\").mean(axis=0)\n",
        "df[\"Albumin_and_Globulin_Ratio\"].replace(np.nan, avg_norm_loss, inplace=True)"
      ],
      "execution_count": null,
      "outputs": []
    },
    {
      "cell_type": "code",
      "metadata": {
        "id": "f6EZfaDCMQ0H",
        "outputId": "0b257620-f642-4b42-cb52-e04015bfb9ff",
        "colab": {
          "base_uri": "https://localhost:8080/",
          "height": 221
        }
      },
      "source": [
        "df['Total_Bilirubin'] = df['Total_Bilirubin'].astype('int')\n",
        "df['Direct_Bilirubin'] = df['Direct_Bilirubin'].astype('int')\n",
        "df['Total_Protiens'] = df['Total_Protiens'].astype('int')\n",
        "df['Albumin'] = df['Albumin'].astype('int')\n",
        "df['Albumin_and_Globulin_Ratio'] = df['Albumin_and_Globulin_Ratio'].astype('int')\n",
        "\n",
        "\n",
        "feature_df = df[['Age','Gender','Total_Bilirubin','Direct_Bilirubin','Alkaline_Phosphotase','Alamine_Aminotransferase','Aspartate_Aminotransferase','Total_Protiens','Albumin','Albumin_and_Globulin_Ratio']].values\n",
        "df.dtypes\n",
        "  "
      ],
      "execution_count": null,
      "outputs": [
        {
          "output_type": "execute_result",
          "data": {
            "text/plain": [
              "Age                            int64\n",
              "Gender                        object\n",
              "Total_Bilirubin                int64\n",
              "Direct_Bilirubin               int64\n",
              "Alkaline_Phosphotase           int64\n",
              "Alamine_Aminotransferase       int64\n",
              "Aspartate_Aminotransferase     int64\n",
              "Total_Protiens                 int64\n",
              "Albumin                        int64\n",
              "Albumin_and_Globulin_Ratio     int64\n",
              "Dataset                        int64\n",
              "dtype: object"
            ]
          },
          "metadata": {
            "tags": []
          },
          "execution_count": 5
        }
      ]
    },
    {
      "cell_type": "code",
      "metadata": {
        "id": "8DYT9muvMS3J",
        "outputId": "3c8a25e3-c770-4f7c-b93d-7de68975811c",
        "colab": {
          "base_uri": "https://localhost:8080/",
          "height": 34
        }
      },
      "source": [
        "feature_df.shape"
      ],
      "execution_count": null,
      "outputs": [
        {
          "output_type": "execute_result",
          "data": {
            "text/plain": [
              "(583, 10)"
            ]
          },
          "metadata": {
            "tags": []
          },
          "execution_count": 6
        }
      ]
    },
    {
      "cell_type": "code",
      "metadata": {
        "id": "70BOdVV3MfjB",
        "outputId": "a63b6995-7b25-467f-d5f5-1c4f14b67633",
        "colab": {
          "base_uri": "https://localhost:8080/",
          "height": 102
        }
      },
      "source": [
        "X = np.asarray(feature_df)\n",
        "X[0:5]"
      ],
      "execution_count": null,
      "outputs": [
        {
          "output_type": "execute_result",
          "data": {
            "text/plain": [
              "array([[65, 0, 0, 0, 187, 16, 18, 6, 3, 0],\n",
              "       [62, 1, 10, 5, 699, 64, 100, 7, 3, 0],\n",
              "       [62, 1, 7, 4, 490, 60, 68, 7, 3, 0],\n",
              "       [58, 1, 1, 0, 182, 14, 20, 6, 3, 1],\n",
              "       [72, 1, 3, 2, 195, 27, 59, 7, 2, 0]], dtype=object)"
            ]
          },
          "metadata": {
            "tags": []
          },
          "execution_count": 24
        }
      ]
    },
    {
      "cell_type": "code",
      "metadata": {
        "id": "TVbkK3SlNesI"
      },
      "source": [
        ""
      ],
      "execution_count": null,
      "outputs": []
    },
    {
      "cell_type": "code",
      "metadata": {
        "id": "v1FLZoELMtnQ",
        "outputId": "480e07f5-6ecc-4938-9711-f87d24540117",
        "colab": {
          "base_uri": "https://localhost:8080/",
          "height": 34
        }
      },
      "source": [
        "y = np.asarray(df['Dataset'])\n",
        "y [0:5]"
      ],
      "execution_count": null,
      "outputs": [
        {
          "output_type": "execute_result",
          "data": {
            "text/plain": [
              "array([1, 1, 1, 1, 1])"
            ]
          },
          "metadata": {
            "tags": []
          },
          "execution_count": 25
        }
      ]
    },
    {
      "cell_type": "code",
      "metadata": {
        "id": "0-a9DMgdM03f",
        "outputId": "e9a9d978-dc68-40c0-cb14-5c9e39dfc409",
        "colab": {
          "base_uri": "https://localhost:8080/",
          "height": 187
        }
      },
      "source": [
        "from sklearn import preprocessing\n",
        "X = preprocessing.StandardScaler().fit(X).transform(X)\n",
        "X[0:5]"
      ],
      "execution_count": null,
      "outputs": [
        {
          "output_type": "execute_result",
          "data": {
            "text/plain": [
              "array([[ 1.25209764, -1.76228085, -0.43493391, -0.42401764, -0.42671496,\n",
              "        -0.35466541, -0.31839333, -0.06347497,  0.31878583, -0.96170454],\n",
              "       [ 1.06663704,  0.56744644,  1.16283843,  1.38301662,  1.68262856,\n",
              "        -0.09159933, -0.03433257,  0.81761803,  0.31878583, -0.96170454],\n",
              "       [ 1.06663704,  0.56744644,  0.68350673,  1.02160976,  0.82158795,\n",
              "        -0.11352151, -0.14518555,  0.81761803,  0.31878583, -0.96170454],\n",
              "       [ 0.81935624,  0.56744644, -0.27515668, -0.42401764, -0.44731402,\n",
              "        -0.36562649, -0.31146502, -0.06347497,  0.31878583,  0.99869318],\n",
              "       [ 1.68483904,  0.56744644,  0.04439779,  0.29879606, -0.39375647,\n",
              "        -0.29437943, -0.17636295,  0.81761803, -0.84279003, -0.96170454]])"
            ]
          },
          "metadata": {
            "tags": []
          },
          "execution_count": 26
        }
      ]
    },
    {
      "cell_type": "code",
      "metadata": {
        "id": "smgJpIsMOWgD",
        "outputId": "1fd4e9a5-defd-4d02-e3f4-f7adcf23d9d5",
        "colab": {
          "base_uri": "https://localhost:8080/",
          "height": 51
        }
      },
      "source": [
        "from sklearn.model_selection import train_test_split\n",
        "X_train, X_test, y_train, y_test = train_test_split( X, y, test_size=0.2, random_state=4)\n",
        "print ('Train set:', X_train.shape,  y_train.shape)\n",
        "print ('Test set:', X_test.shape,  y_test.shape)"
      ],
      "execution_count": null,
      "outputs": [
        {
          "output_type": "stream",
          "text": [
            "Train set: (466, 10) (466,)\n",
            "Test set: (117, 10) (117,)\n"
          ],
          "name": "stdout"
        }
      ]
    },
    {
      "cell_type": "code",
      "metadata": {
        "id": "Tf6DqSA2O3FO",
        "outputId": "5f533503-4a18-443d-ecff-b1e2071d7ac8",
        "colab": {
          "base_uri": "https://localhost:8080/",
          "height": 102
        }
      },
      "source": [
        "from sklearn.linear_model import LogisticRegression\n",
        "from sklearn.metrics import confusion_matrix\n",
        "lr = LogisticRegression(C=0.01, solver='sag').fit(X_train,y_train)\n",
        "lr"
      ],
      "execution_count": null,
      "outputs": [
        {
          "output_type": "execute_result",
          "data": {
            "text/plain": [
              "LogisticRegression(C=0.01, class_weight=None, dual=False, fit_intercept=True,\n",
              "                   intercept_scaling=1, l1_ratio=None, max_iter=100,\n",
              "                   multi_class='auto', n_jobs=None, penalty='l2',\n",
              "                   random_state=None, solver='sag', tol=0.0001, verbose=0,\n",
              "                   warm_start=False)"
            ]
          },
          "metadata": {
            "tags": []
          },
          "execution_count": 37
        }
      ]
    },
    {
      "cell_type": "code",
      "metadata": {
        "id": "VCf8Z36LPbjY",
        "outputId": "ae735866-5158-43f5-a36a-5b011ceb8a48",
        "colab": {
          "base_uri": "https://localhost:8080/",
          "height": 119
        }
      },
      "source": [
        "yhat = lr.predict(X_test)\n",
        "yhat"
      ],
      "execution_count": null,
      "outputs": [
        {
          "output_type": "execute_result",
          "data": {
            "text/plain": [
              "array([1, 1, 1, 1, 1, 1, 1, 1, 1, 1, 1, 1, 1, 1, 1, 1, 1, 1, 1, 1, 1, 1,\n",
              "       1, 1, 1, 1, 1, 1, 1, 1, 1, 1, 1, 1, 1, 1, 1, 1, 1, 1, 1, 1, 1, 1,\n",
              "       1, 1, 1, 1, 1, 1, 1, 1, 1, 1, 1, 1, 1, 1, 1, 1, 1, 1, 1, 1, 1, 1,\n",
              "       1, 1, 1, 1, 1, 1, 1, 1, 1, 1, 1, 1, 1, 1, 1, 1, 1, 1, 1, 1, 1, 1,\n",
              "       1, 1, 1, 1, 1, 1, 1, 1, 1, 1, 1, 1, 1, 1, 1, 1, 1, 1, 1, 1, 1, 1,\n",
              "       1, 1, 1, 1, 1, 1, 1])"
            ]
          },
          "metadata": {
            "tags": []
          },
          "execution_count": 38
        }
      ]
    },
    {
      "cell_type": "code",
      "metadata": {
        "id": "nyGBipHaPjzh",
        "outputId": "d118cbcc-ad39-4a2f-e9d2-433644dfaae6",
        "colab": {
          "base_uri": "https://localhost:8080/",
          "height": 1000
        }
      },
      "source": [
        "yhatprob = lr.predict_proba(X_test)\n",
        "yhatprob\n"
      ],
      "execution_count": null,
      "outputs": [
        {
          "output_type": "execute_result",
          "data": {
            "text/plain": [
              "array([[0.71968584, 0.28031416],\n",
              "       [0.71238188, 0.28761812],\n",
              "       [0.68362789, 0.31637211],\n",
              "       [0.69024443, 0.30975557],\n",
              "       [0.69269417, 0.30730583],\n",
              "       [0.65839575, 0.34160425],\n",
              "       [0.6427169 , 0.3572831 ],\n",
              "       [0.65449232, 0.34550768],\n",
              "       [0.65071693, 0.34928307],\n",
              "       [0.63124941, 0.36875059],\n",
              "       [0.75855893, 0.24144107],\n",
              "       [0.653414  , 0.346586  ],\n",
              "       [0.68004121, 0.31995879],\n",
              "       [0.66061839, 0.33938161],\n",
              "       [0.80918282, 0.19081718],\n",
              "       [0.63660097, 0.36339903],\n",
              "       [0.90348476, 0.09651524],\n",
              "       [0.63812723, 0.36187277],\n",
              "       [0.83468806, 0.16531194],\n",
              "       [0.77959217, 0.22040783],\n",
              "       [0.67758412, 0.32241588],\n",
              "       [0.69893403, 0.30106597],\n",
              "       [0.63134376, 0.36865624],\n",
              "       [0.88188138, 0.11811862],\n",
              "       [0.64287817, 0.35712183],\n",
              "       [0.6280057 , 0.3719943 ],\n",
              "       [0.68055083, 0.31944917],\n",
              "       [0.72858188, 0.27141812],\n",
              "       [0.77165168, 0.22834832],\n",
              "       [0.64317587, 0.35682413],\n",
              "       [0.65188727, 0.34811273],\n",
              "       [0.6804369 , 0.3195631 ],\n",
              "       [0.70462762, 0.29537238],\n",
              "       [0.62229594, 0.37770406],\n",
              "       [0.71220685, 0.28779315],\n",
              "       [0.67144148, 0.32855852],\n",
              "       [0.70268516, 0.29731484],\n",
              "       [0.6349015 , 0.3650985 ],\n",
              "       [0.72176876, 0.27823124],\n",
              "       [0.67009858, 0.32990142],\n",
              "       [0.68848937, 0.31151063],\n",
              "       [0.61108395, 0.38891605],\n",
              "       [0.8318724 , 0.1681276 ],\n",
              "       [0.71036328, 0.28963672],\n",
              "       [0.70282512, 0.29717488],\n",
              "       [0.62073415, 0.37926585],\n",
              "       [0.81991781, 0.18008219],\n",
              "       [0.94641803, 0.05358197],\n",
              "       [0.69417134, 0.30582866],\n",
              "       [0.69159108, 0.30840892],\n",
              "       [0.64749296, 0.35250704],\n",
              "       [0.74825291, 0.25174709],\n",
              "       [0.68935747, 0.31064253],\n",
              "       [0.67885727, 0.32114273],\n",
              "       [0.66485743, 0.33514257],\n",
              "       [0.69532645, 0.30467355],\n",
              "       [0.70099286, 0.29900714],\n",
              "       [0.73974798, 0.26025202],\n",
              "       [0.68161986, 0.31838014],\n",
              "       [0.72086101, 0.27913899],\n",
              "       [0.64247982, 0.35752018],\n",
              "       [0.84689335, 0.15310665],\n",
              "       [0.95922967, 0.04077033],\n",
              "       [0.68746563, 0.31253437],\n",
              "       [0.62886685, 0.37113315],\n",
              "       [0.67851223, 0.32148777],\n",
              "       [0.72800268, 0.27199732],\n",
              "       [0.65224776, 0.34775224],\n",
              "       [0.93737269, 0.06262731],\n",
              "       [0.67105828, 0.32894172],\n",
              "       [0.67987293, 0.32012707],\n",
              "       [0.77442469, 0.22557531],\n",
              "       [0.65871699, 0.34128301],\n",
              "       [0.73820897, 0.26179103],\n",
              "       [0.69474684, 0.30525316],\n",
              "       [0.79800183, 0.20199817],\n",
              "       [0.61330637, 0.38669363],\n",
              "       [0.70826238, 0.29173762],\n",
              "       [0.67868887, 0.32131113],\n",
              "       [0.9023738 , 0.0976262 ],\n",
              "       [0.68939245, 0.31060755],\n",
              "       [0.59021186, 0.40978814],\n",
              "       [0.75619598, 0.24380402],\n",
              "       [0.67213869, 0.32786131],\n",
              "       [0.77596638, 0.22403362],\n",
              "       [0.65015936, 0.34984064],\n",
              "       [0.68134325, 0.31865675],\n",
              "       [0.64543748, 0.35456252],\n",
              "       [0.70879408, 0.29120592],\n",
              "       [0.6444643 , 0.3555357 ],\n",
              "       [0.71396358, 0.28603642],\n",
              "       [0.87218811, 0.12781189],\n",
              "       [0.62246296, 0.37753704],\n",
              "       [0.71780424, 0.28219576],\n",
              "       [0.92585922, 0.07414078],\n",
              "       [0.66368606, 0.33631394],\n",
              "       [0.70715605, 0.29284395],\n",
              "       [0.8044437 , 0.1955563 ],\n",
              "       [0.66882238, 0.33117762],\n",
              "       [0.64794139, 0.35205861],\n",
              "       [0.75816868, 0.24183132],\n",
              "       [0.58123031, 0.41876969],\n",
              "       [0.63871762, 0.36128238],\n",
              "       [0.65765397, 0.34234603],\n",
              "       [0.79824619, 0.20175381],\n",
              "       [0.6443869 , 0.3556131 ],\n",
              "       [0.61577057, 0.38422943],\n",
              "       [0.71146303, 0.28853697],\n",
              "       [0.84870187, 0.15129813],\n",
              "       [0.69330651, 0.30669349],\n",
              "       [0.98491629, 0.01508371],\n",
              "       [0.71012741, 0.28987259],\n",
              "       [0.72039401, 0.27960599],\n",
              "       [0.60146598, 0.39853402],\n",
              "       [0.63908455, 0.36091545],\n",
              "       [0.68086196, 0.31913804],\n",
              "       [0.71616084, 0.28383916]])"
            ]
          },
          "metadata": {
            "tags": []
          },
          "execution_count": 39
        }
      ]
    },
    {
      "cell_type": "code",
      "metadata": {
        "id": "-Khjy4xlQonu",
        "outputId": "107a184a-b494-4488-904c-69ebb1afb723",
        "colab": {
          "base_uri": "https://localhost:8080/",
          "height": 51
        }
      },
      "source": [
        "from sklearn.metrics import classification_report, confusion_matrix\n",
        "import itertools\n",
        "def plot_confusion_matrix(cm, classes,\n",
        "                          normalize=False,\n",
        "                          title='Confusion matrix',\n",
        "                          cmap=plt.cm.Blues):\n",
        "    \"\"\"\n",
        "    This function prints and plots the confusion matrix.\n",
        "    Normalization can be applied by setting `normalize=True`.\n",
        "    \"\"\"\n",
        "    if normalize:\n",
        "        cm = cm.astype('float') / cm.sum(axis=1)[:, np.newaxis]\n",
        "        print(\"Normalized confusion matrix\")\n",
        "    else:\n",
        "        print('Confusion matrix, without normalization')\n",
        "\n",
        "    print(cm)\n",
        "\n",
        "    plt.imshow(cm, interpolation='nearest', cmap=cmap)\n",
        "    plt.title(title)\n",
        "    plt.colorbar()\n",
        "    tick_marks = np.arange(len(classes))\n",
        "    plt.xticks(tick_marks, classes, rotation=45)\n",
        "    plt.yticks(tick_marks, classes)\n",
        "\n",
        "    fmt = '.2f' if normalize else 'd'\n",
        "    thresh = cm.max() / 2.\n",
        "    for i, j in itertools.product(range(cm.shape[0]), range(cm.shape[1])):\n",
        "        plt.text(j, i, format(cm[i, j], fmt),\n",
        "                 horizontalalignment=\"center\",\n",
        "                 color=\"white\" if cm[i, j] > thresh else \"black\")\n",
        "\n",
        "    plt.tight_layout()\n",
        "    plt.ylabel('True label')\n",
        "    plt.xlabel('Predicted label')\n",
        "print(confusion_matrix(y_test, yhat, labels=[1,2]))"
      ],
      "execution_count": null,
      "outputs": [
        {
          "output_type": "stream",
          "text": [
            "[[80  0]\n",
            " [37  0]]\n"
          ],
          "name": "stdout"
        }
      ]
    },
    {
      "cell_type": "code",
      "metadata": {
        "id": "JS953RK9Qwi2",
        "outputId": "c1d3b14e-2554-4d7f-e09d-51c98c80ca4d",
        "colab": {
          "base_uri": "https://localhost:8080/",
          "height": 362
        }
      },
      "source": [
        "# Compute confusion matrix\n",
        "cnf_matrix = confusion_matrix(y_test, yhat, labels=[1,2])\n",
        "np.set_printoptions(precision=2)\n",
        "\n",
        "\n",
        "# Plot non-normalized confusion matrix\n",
        "plt.figure()\n",
        "plot_confusion_matrix(cnf_matrix, classes=['Dataset=1','Dataset=2'],normalize= False,  title='Confusion matrix')"
      ],
      "execution_count": null,
      "outputs": [
        {
          "output_type": "stream",
          "text": [
            "Confusion matrix, without normalization\n",
            "[[80  0]\n",
            " [37  0]]\n"
          ],
          "name": "stdout"
        },
        {
          "output_type": "display_data",
          "data": {
            "image/png": "[encoded data removed]",
            "text/plain": [
              "<Figure size 432x288 with 2 Axes>"
            ]
          },
          "metadata": {
            "tags": [],
            "needs_background": "light"
          }
        }
      ]
    },
    {
      "cell_type": "code",
      "metadata": {
        "id": "oRQ8IQ9qQ5yE",
        "outputId": "7aba1439-8afc-4779-f7b4-4e0b64f4c90a",
        "colab": {
          "base_uri": "https://localhost:8080/",
          "height": 224
        }
      },
      "source": [
        "print (classification_report(y_test, yhat))\n"
      ],
      "execution_count": null,
      "outputs": [
        {
          "output_type": "stream",
          "text": [
            "              precision    recall  f1-score   support\n",
            "\n",
            "           1       0.68      1.00      0.81        80\n",
            "           2       0.00      0.00      0.00        37\n",
            "\n",
            "    accuracy                           0.68       117\n",
            "   macro avg       0.34      0.50      0.41       117\n",
            "weighted avg       0.47      0.68      0.56       117\n",
            "\n"
          ],
          "name": "stdout"
        },
        {
          "output_type": "stream",
          "text": [
            "/usr/local/lib/python3.6/dist-packages/sklearn/metrics/_classification.py:1272: UndefinedMetricWarning: Precision and F-score are ill-defined and being set to 0.0 in labels with no predicted samples. Use `zero_division` parameter to control this behavior.\n",
            "  _warn_prf(average, modifier, msg_start, len(result))\n"
          ],
          "name": "stderr"
        }
      ]
    },
    {
      "cell_type": "code",
      "metadata": {
        "id": "o7ocb-oiPuBW",
        "outputId": "e2b3258a-0b50-483c-ec41-19982a68a914",
        "colab": {
          "base_uri": "https://localhost:8080/",
          "height": 88
        }
      },
      "source": [
        "from sklearn.metrics import jaccard_similarity_score\n",
        "jaccard_similarity_score(y_test,yhat)"
      ],
      "execution_count": null,
      "outputs": [
        {
          "output_type": "stream",
          "text": [
            "/usr/local/lib/python3.6/dist-packages/sklearn/metrics/_classification.py:664: FutureWarning: jaccard_similarity_score has been deprecated and replaced with jaccard_score. It will be removed in version 0.23. This implementation has surprising behavior for binary and multiclass classification tasks.\n",
            "  FutureWarning)\n"
          ],
          "name": "stderr"
        },
        {
          "output_type": "execute_result",
          "data": {
            "text/plain": [
              "0.6837606837606838"
            ]
          },
          "metadata": {
            "tags": []
          },
          "execution_count": 40
        }
      ]
    },
    {
      "cell_type": "code",
      "metadata": {
        "id": "6UuaUBScP716",
        "outputId": "9db4a5d1-9702-46a5-d506-9df9ec58dc89",
        "colab": {
          "base_uri": "https://localhost:8080/",
          "height": 34
        }
      },
      "source": [
        "from sklearn.metrics import log_loss\n",
        "log_loss(y_test, yhatprob)"
      ],
      "execution_count": null,
      "outputs": [
        {
          "output_type": "execute_result",
          "data": {
            "text/plain": [
              "0.560895578007842"
            ]
          },
          "metadata": {
            "tags": []
          },
          "execution_count": 41
        }
      ]
    },
    {
      "cell_type": "code",
      "metadata": {
        "id": "C0z4Kci1QJH4"
      },
      "source": [
        ""
      ],
      "execution_count": null,
      "outputs": []
    }
  ]
}